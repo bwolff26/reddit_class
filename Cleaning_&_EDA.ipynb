{
 "cells": [
  {
   "cell_type": "code",
   "execution_count": 1,
   "id": "10958172",
   "metadata": {},
   "outputs": [],
   "source": [
    "import pandas as pd\n",
    "import matplotlib.pyplot as plt\n",
    "\n",
    "from bs4 import BeautifulSoup\n",
    "import regex as re\n",
    "from nltk.tokenize import RegexpTokenizer\n",
    "from nltk.corpus import stopwords\n",
    "from nltk.stem.porter import PorterStemmer"
   ]
  },
  {
   "cell_type": "code",
   "execution_count": 2,
   "id": "c06e5020",
   "metadata": {},
   "outputs": [
    {
     "name": "stdout",
     "output_type": "stream",
     "text": [
      "(5555, 7) (5655, 7)\n"
     ]
    },
    {
     "data": {
      "text/html": [
       "<div>\n",
       "<style scoped>\n",
       "    .dataframe tbody tr th:only-of-type {\n",
       "        vertical-align: middle;\n",
       "    }\n",
       "\n",
       "    .dataframe tbody tr th {\n",
       "        vertical-align: top;\n",
       "    }\n",
       "\n",
       "    .dataframe thead th {\n",
       "        text-align: right;\n",
       "    }\n",
       "</style>\n",
       "<table border=\"1\" class=\"dataframe\">\n",
       "  <thead>\n",
       "    <tr style=\"text-align: right;\">\n",
       "      <th></th>\n",
       "      <th>title</th>\n",
       "      <th>selftext</th>\n",
       "      <th>over_18</th>\n",
       "      <th>subreddit</th>\n",
       "      <th>time</th>\n",
       "      <th>id</th>\n",
       "      <th>flair</th>\n",
       "    </tr>\n",
       "  </thead>\n",
       "  <tbody>\n",
       "    <tr>\n",
       "      <th>0</th>\n",
       "      <td>Y'all Know What This Font Is? \\\\ Kagurabachi c...</td>\n",
       "      <td>NaN</td>\n",
       "      <td>False</td>\n",
       "      <td>manga</td>\n",
       "      <td>1.705890e+09</td>\n",
       "      <td>19cko5o</td>\n",
       "      <td>NaN</td>\n",
       "    </tr>\n",
       "    <tr>\n",
       "      <th>1</th>\n",
       "      <td>Trying to find a manhwa/manhua but I cant reme...</td>\n",
       "      <td>I am trying to find a manga where the mc is a...</td>\n",
       "      <td>False</td>\n",
       "      <td>manga</td>\n",
       "      <td>1.705889e+09</td>\n",
       "      <td>19ckgrg</td>\n",
       "      <td>NaN</td>\n",
       "    </tr>\n",
       "    <tr>\n",
       "      <th>2</th>\n",
       "      <td>[DISC] Tower of God - Season 3 Episode 178</td>\n",
       "      <td>NaN</td>\n",
       "      <td>False</td>\n",
       "      <td>manga</td>\n",
       "      <td>1.705889e+09</td>\n",
       "      <td>19ckf2s</td>\n",
       "      <td>NaN</td>\n",
       "    </tr>\n",
       "    <tr>\n",
       "      <th>3</th>\n",
       "      <td>[ART] - Tatsuya Endo's illustration for Chapte...</td>\n",
       "      <td>NaN</td>\n",
       "      <td>False</td>\n",
       "      <td>manga</td>\n",
       "      <td>1.705888e+09</td>\n",
       "      <td>19ck611</td>\n",
       "      <td>NaN</td>\n",
       "    </tr>\n",
       "    <tr>\n",
       "      <th>4</th>\n",
       "      <td>Is the artist from “sono mono nochi ni” the sa...</td>\n",
       "      <td>NaN</td>\n",
       "      <td>False</td>\n",
       "      <td>manga</td>\n",
       "      <td>1.705888e+09</td>\n",
       "      <td>19ck1j5</td>\n",
       "      <td>NaN</td>\n",
       "    </tr>\n",
       "  </tbody>\n",
       "</table>\n",
       "</div>"
      ],
      "text/plain": [
       "                                               title  \\\n",
       "0  Y'all Know What This Font Is? \\\\ Kagurabachi c...   \n",
       "1  Trying to find a manhwa/manhua but I cant reme...   \n",
       "2         [DISC] Tower of God - Season 3 Episode 178   \n",
       "3  [ART] - Tatsuya Endo's illustration for Chapte...   \n",
       "4  Is the artist from “sono mono nochi ni” the sa...   \n",
       "\n",
       "                                            selftext  over_18 subreddit  \\\n",
       "0                                                NaN    False     manga   \n",
       "1   I am trying to find a manga where the mc is a...    False     manga   \n",
       "2                                                NaN    False     manga   \n",
       "3                                                NaN    False     manga   \n",
       "4                                                NaN    False     manga   \n",
       "\n",
       "           time       id flair  \n",
       "0  1.705890e+09  19cko5o   NaN  \n",
       "1  1.705889e+09  19ckgrg   NaN  \n",
       "2  1.705889e+09  19ckf2s   NaN  \n",
       "3  1.705888e+09  19ck611   NaN  \n",
       "4  1.705888e+09  19ck1j5   NaN  "
      ]
     },
     "execution_count": 2,
     "metadata": {},
     "output_type": "execute_result"
    }
   ],
   "source": [
    "mt = pd.read_csv('data/mangas.csv')\n",
    "at = pd.read_csv('data/animes.csv')\n",
    "print(mt.shape, at.shape)\n",
    "mt.head() #Recall that I didn't initially grab Flairs. So, we have more nulls than what's to be expected in general."
   ]
  },
  {
   "cell_type": "code",
   "execution_count": 3,
   "id": "acd1eb94",
   "metadata": {},
   "outputs": [
    {
     "data": {
      "text/html": [
       "<div>\n",
       "<style scoped>\n",
       "    .dataframe tbody tr th:only-of-type {\n",
       "        vertical-align: middle;\n",
       "    }\n",
       "\n",
       "    .dataframe tbody tr th {\n",
       "        vertical-align: top;\n",
       "    }\n",
       "\n",
       "    .dataframe thead th {\n",
       "        text-align: right;\n",
       "    }\n",
       "</style>\n",
       "<table border=\"1\" class=\"dataframe\">\n",
       "  <thead>\n",
       "    <tr style=\"text-align: right;\">\n",
       "      <th></th>\n",
       "      <th>title</th>\n",
       "      <th>selftext</th>\n",
       "      <th>over_18</th>\n",
       "      <th>subreddit</th>\n",
       "      <th>time</th>\n",
       "      <th>id</th>\n",
       "      <th>flair</th>\n",
       "    </tr>\n",
       "  </thead>\n",
       "  <tbody>\n",
       "    <tr>\n",
       "      <th>0</th>\n",
       "      <td>Having trouble finding Anime to watch with my ...</td>\n",
       "      <td>I started her with Death Note cause she loves ...</td>\n",
       "      <td>False</td>\n",
       "      <td>manga</td>\n",
       "      <td>1.705894e+09</td>\n",
       "      <td>19cm3ep</td>\n",
       "      <td>NaN</td>\n",
       "    </tr>\n",
       "    <tr>\n",
       "      <th>1</th>\n",
       "      <td>Yuuki Bakuhatsu Bang Bravern (Bang Brave Bang ...</td>\n",
       "      <td>NaN</td>\n",
       "      <td>False</td>\n",
       "      <td>manga</td>\n",
       "      <td>1.705893e+09</td>\n",
       "      <td>19cls7i</td>\n",
       "      <td>NaN</td>\n",
       "    </tr>\n",
       "    <tr>\n",
       "      <th>2</th>\n",
       "      <td>waifu 3x3. lets start a war!</td>\n",
       "      <td>[my 3x3 no order](https://imgur.com/a/nXsWUai)...</td>\n",
       "      <td>False</td>\n",
       "      <td>manga</td>\n",
       "      <td>1.705893e+09</td>\n",
       "      <td>19clr6w</td>\n",
       "      <td>NaN</td>\n",
       "    </tr>\n",
       "    <tr>\n",
       "      <th>3</th>\n",
       "      <td>「Jaku-Chara Tomozaki-kun 2nd STAGE」WEB Preview...</td>\n",
       "      <td>NaN</td>\n",
       "      <td>False</td>\n",
       "      <td>manga</td>\n",
       "      <td>1.705893e+09</td>\n",
       "      <td>19cln1f</td>\n",
       "      <td>NaN</td>\n",
       "    </tr>\n",
       "    <tr>\n",
       "      <th>4</th>\n",
       "      <td>My Thoughts on season 1 of hibike euphonium.</td>\n",
       "      <td>These are my thoughts on season 1 without the ...</td>\n",
       "      <td>False</td>\n",
       "      <td>manga</td>\n",
       "      <td>1.705893e+09</td>\n",
       "      <td>19clmrv</td>\n",
       "      <td>NaN</td>\n",
       "    </tr>\n",
       "  </tbody>\n",
       "</table>\n",
       "</div>"
      ],
      "text/plain": [
       "                                               title  \\\n",
       "0  Having trouble finding Anime to watch with my ...   \n",
       "1  Yuuki Bakuhatsu Bang Bravern (Bang Brave Bang ...   \n",
       "2                       waifu 3x3. lets start a war!   \n",
       "3  「Jaku-Chara Tomozaki-kun 2nd STAGE」WEB Preview...   \n",
       "4       My Thoughts on season 1 of hibike euphonium.   \n",
       "\n",
       "                                            selftext  over_18 subreddit  \\\n",
       "0  I started her with Death Note cause she loves ...    False     manga   \n",
       "1                                                NaN    False     manga   \n",
       "2  [my 3x3 no order](https://imgur.com/a/nXsWUai)...    False     manga   \n",
       "3                                                NaN    False     manga   \n",
       "4  These are my thoughts on season 1 without the ...    False     manga   \n",
       "\n",
       "           time       id flair  \n",
       "0  1.705894e+09  19cm3ep   NaN  \n",
       "1  1.705893e+09  19cls7i   NaN  \n",
       "2  1.705893e+09  19clr6w   NaN  \n",
       "3  1.705893e+09  19cln1f   NaN  \n",
       "4  1.705893e+09  19clmrv   NaN  "
      ]
     },
     "execution_count": 3,
     "metadata": {},
     "output_type": "execute_result"
    }
   ],
   "source": [
    "at.head() #Oh, that's awkward.... must have messed up with my syntax when importing. \n",
    "#Anyways, that's obviously a mistake. Furthermore, I base my mistaken on not only the first entry's title... but domain \n",
    "#knowldge with the fourth (as that is/was airing at the time of the pull). Plus, I just googled the first one's id and \n",
    "# it's in R/anime..."
   ]
  },
  {
   "cell_type": "code",
   "execution_count": 5,
   "id": "a04a33b4",
   "metadata": {},
   "outputs": [],
   "source": [
    "#Note, on that topic is something quite interesting - the timing of things. Likely this is true for all matters and discussions,\n",
    "#but there is often a preference to discuss whatever is new. Perforce, with other data, albit not provided for us,\n",
    "#one could trace 'current events' to posts. Ie it makes a lot of sense for 'Jakua-Chara Tomozaki-kun'/'Bottom-tier\n",
    "#Tomozaki' to be discussed as the new anime season just came out two weeks ago. Now, likely that will bring with it\n",
    "#revived interest in the manga,but pragmatically....\n",
    "\n",
    "#And, on that topic: lower numbers are potentially more significant to animes as often the number of seasons with each one\n",
    "#are lower than the accompany 'comic-book' like format associated with manga [conversion rates vary, but for\n",
    "#an incredibly rough translation let's say 3ish (domain knowledge)]. Interestingly, a 2-gram might not pick this up as 'kun'\n",
    "#is a Japanese honorific for a younger male (generally), however 'Tomozaki-2nd', or the current 3-gram of\n",
    "#'Tomozaki-kun-2nd' would be significant.... however that is only imbuing with it domain knowledge - which the computer\n",
    "#does not have."
   ]
  },
  {
   "cell_type": "code",
   "execution_count": 4,
   "id": "d9801fc6",
   "metadata": {},
   "outputs": [
    {
     "data": {
      "text/html": [
       "<div>\n",
       "<style scoped>\n",
       "    .dataframe tbody tr th:only-of-type {\n",
       "        vertical-align: middle;\n",
       "    }\n",
       "\n",
       "    .dataframe tbody tr th {\n",
       "        vertical-align: top;\n",
       "    }\n",
       "\n",
       "    .dataframe thead th {\n",
       "        text-align: right;\n",
       "    }\n",
       "</style>\n",
       "<table border=\"1\" class=\"dataframe\">\n",
       "  <thead>\n",
       "    <tr style=\"text-align: right;\">\n",
       "      <th></th>\n",
       "      <th>title</th>\n",
       "      <th>selftext</th>\n",
       "      <th>over_18</th>\n",
       "      <th>subreddit</th>\n",
       "      <th>time</th>\n",
       "      <th>id</th>\n",
       "      <th>flair</th>\n",
       "    </tr>\n",
       "  </thead>\n",
       "  <tbody>\n",
       "    <tr>\n",
       "      <th>0</th>\n",
       "      <td>Having trouble finding Anime to watch with my ...</td>\n",
       "      <td>I started her with Death Note cause she loves ...</td>\n",
       "      <td>False</td>\n",
       "      <td>anime</td>\n",
       "      <td>1.705894e+09</td>\n",
       "      <td>19cm3ep</td>\n",
       "      <td>NaN</td>\n",
       "    </tr>\n",
       "    <tr>\n",
       "      <th>1</th>\n",
       "      <td>Yuuki Bakuhatsu Bang Bravern (Bang Brave Bang ...</td>\n",
       "      <td>NaN</td>\n",
       "      <td>False</td>\n",
       "      <td>anime</td>\n",
       "      <td>1.705893e+09</td>\n",
       "      <td>19cls7i</td>\n",
       "      <td>NaN</td>\n",
       "    </tr>\n",
       "    <tr>\n",
       "      <th>2</th>\n",
       "      <td>waifu 3x3. lets start a war!</td>\n",
       "      <td>[my 3x3 no order](https://imgur.com/a/nXsWUai)...</td>\n",
       "      <td>False</td>\n",
       "      <td>anime</td>\n",
       "      <td>1.705893e+09</td>\n",
       "      <td>19clr6w</td>\n",
       "      <td>NaN</td>\n",
       "    </tr>\n",
       "    <tr>\n",
       "      <th>3</th>\n",
       "      <td>「Jaku-Chara Tomozaki-kun 2nd STAGE」WEB Preview...</td>\n",
       "      <td>NaN</td>\n",
       "      <td>False</td>\n",
       "      <td>anime</td>\n",
       "      <td>1.705893e+09</td>\n",
       "      <td>19cln1f</td>\n",
       "      <td>NaN</td>\n",
       "    </tr>\n",
       "    <tr>\n",
       "      <th>4</th>\n",
       "      <td>My Thoughts on season 1 of hibike euphonium.</td>\n",
       "      <td>These are my thoughts on season 1 without the ...</td>\n",
       "      <td>False</td>\n",
       "      <td>anime</td>\n",
       "      <td>1.705893e+09</td>\n",
       "      <td>19clmrv</td>\n",
       "      <td>NaN</td>\n",
       "    </tr>\n",
       "  </tbody>\n",
       "</table>\n",
       "</div>"
      ],
      "text/plain": [
       "                                               title  \\\n",
       "0  Having trouble finding Anime to watch with my ...   \n",
       "1  Yuuki Bakuhatsu Bang Bravern (Bang Brave Bang ...   \n",
       "2                       waifu 3x3. lets start a war!   \n",
       "3  「Jaku-Chara Tomozaki-kun 2nd STAGE」WEB Preview...   \n",
       "4       My Thoughts on season 1 of hibike euphonium.   \n",
       "\n",
       "                                            selftext  over_18 subreddit  \\\n",
       "0  I started her with Death Note cause she loves ...    False     anime   \n",
       "1                                                NaN    False     anime   \n",
       "2  [my 3x3 no order](https://imgur.com/a/nXsWUai)...    False     anime   \n",
       "3                                                NaN    False     anime   \n",
       "4  These are my thoughts on season 1 without the ...    False     anime   \n",
       "\n",
       "           time       id flair  \n",
       "0  1.705894e+09  19cm3ep   NaN  \n",
       "1  1.705893e+09  19cls7i   NaN  \n",
       "2  1.705893e+09  19clr6w   NaN  \n",
       "3  1.705893e+09  19cln1f   NaN  \n",
       "4  1.705893e+09  19clmrv   NaN  "
      ]
     },
     "execution_count": 4,
     "metadata": {},
     "output_type": "execute_result"
    }
   ],
   "source": [
    "at['subreddit'] = 'anime'\n",
    "at.head()"
   ]
  },
  {
   "cell_type": "markdown",
   "id": "f5009043",
   "metadata": {},
   "source": [
    "So yeah, just from the head we see two interesting things:\n",
    "The manga head is 4/5 nans in just the selftext... likely those are pictures that we do not wish to explore for this\n",
    "iteration of the project. We'll do a count momentarily.\n",
    "Secondly, we already see a lot of Japanese.... besides the language gap, despite my experience, there will be not only\n",
    "so many more stop words, but will likely be now so many more proper names, many of whom not capitalized, to make noise.\n",
    "Thirdly, somewhat tangentially, will be spelling errors...\n",
    "Fourthly will be the treatment of numbers... potentially relevant to certain things, likely in combination with things\n",
    "ie episode... and alredy note in the third entry - we alrady have language that belongs to do 'anime' section seemingly...\n",
    "    On the topic, we will need to be wary of emojis,etc... pragmatically we'll likely have enough data to just ignore them.\n",
    "\n",
    "Pragmatically, we'll need to use Google translator a lot... for my sake and for the reader. But, for now, let us continue."
   ]
  },
  {
   "cell_type": "code",
   "execution_count": 8,
   "id": "b6844438",
   "metadata": {},
   "outputs": [
    {
     "data": {
      "text/plain": [
       "title           0\n",
       "selftext     2981\n",
       "over_18         0\n",
       "subreddit       0\n",
       "time            0\n",
       "id              0\n",
       "flair        2944\n",
       "dtype: int64"
      ]
     },
     "execution_count": 8,
     "metadata": {},
     "output_type": "execute_result"
    }
   ],
   "source": [
    "mt.isnull().sum() #Thankfully just the self text... but wow... over half in manga's text are just imagines...\n",
    "#Yeah, at least in this subreddit very glad we'll be banking on the comments.\n",
    "\n",
    "#Tangential: Back in the day when I ran comments, apparently no nulls in the 10kish manga comments... perhaps only the\n",
    "#poster is able to make images and the like... I am unsure."
   ]
  },
  {
   "cell_type": "code",
   "execution_count": 9,
   "id": "3ef02213",
   "metadata": {},
   "outputs": [
    {
     "data": {
      "text/plain": [
       "title           0\n",
       "selftext      823\n",
       "over_18         0\n",
       "subreddit       0\n",
       "time            0\n",
       "id              0\n",
       "flair        1010\n",
       "dtype: int64"
      ]
     },
     "execution_count": 9,
     "metadata": {},
     "output_type": "execute_result"
    }
   ],
   "source": [
    "at.isnull().sum() #Oh, this is interesting - much less nulls in the anime section... Besides having more words\n",
    "#likely a difference in the two very similar things..."
   ]
  },
  {
   "cell_type": "code",
   "execution_count": 5,
   "id": "9a0efb24",
   "metadata": {},
   "outputs": [
    {
     "name": "stdout",
     "output_type": "stream",
     "text": [
      "subreddit\n",
      "manga    711\n",
      "Name: count, dtype: int64\n",
      "subreddit\n",
      "anime    1104\n",
      "Name: count, dtype: int64\n"
     ]
    }
   ],
   "source": [
    "#Fine, let's do it, check for duplicates:\n",
    "print(mt[mt['id'].duplicated()]['subreddit'].value_counts())\n",
    "print(at[at['id'].duplicated()]['subreddit'].value_counts())\n",
    "#Oooh, that's tough to see... 782 duplicates.... Well, recall that we can still keep a unique value\n",
    "#from them, so we'd still probably have 3200... let's do just that.\n",
    "#Oh wait, I'm way overthinking this - let's just use unique..."
   ]
  },
  {
   "cell_type": "code",
   "execution_count": 6,
   "id": "fa25e537",
   "metadata": {},
   "outputs": [
    {
     "name": "stdout",
     "output_type": "stream",
     "text": [
      "4844\n",
      "4551\n"
     ]
    }
   ],
   "source": [
    "print(len(mt['id'].unique()))\n",
    "print(len(at['id'].unique()))"
   ]
  },
  {
   "cell_type": "code",
   "execution_count": 7,
   "id": "dfa3f26f",
   "metadata": {},
   "outputs": [],
   "source": [
    "mt = mt.drop_duplicates(subset=['id'])\n",
    "at = at.drop_duplicates(subset=['id'])"
   ]
  },
  {
   "cell_type": "code",
   "execution_count": 9,
   "id": "f3b8281c",
   "metadata": {},
   "outputs": [
    {
     "data": {
      "text/plain": [
       "4551"
      ]
     },
     "execution_count": 9,
     "metadata": {},
     "output_type": "execute_result"
    }
   ],
   "source": [
    "#Might at well use all the animes and trim off the extra mangas. Assuming that their order doesn't matter; nah, let's be thorough:\n",
    "mt = mt.sample(frac=(at.shape[0]/mt.shape[0]), random_state=26)\n",
    "mt.shape[0]"
   ]
  },
  {
   "cell_type": "code",
   "execution_count": 10,
   "id": "8c7b0792",
   "metadata": {},
   "outputs": [
    {
     "name": "stdout",
     "output_type": "stream",
     "text": [
      "(9102, 7)\n"
     ]
    },
    {
     "data": {
      "text/html": [
       "<div>\n",
       "<style scoped>\n",
       "    .dataframe tbody tr th:only-of-type {\n",
       "        vertical-align: middle;\n",
       "    }\n",
       "\n",
       "    .dataframe tbody tr th {\n",
       "        vertical-align: top;\n",
       "    }\n",
       "\n",
       "    .dataframe thead th {\n",
       "        text-align: right;\n",
       "    }\n",
       "</style>\n",
       "<table border=\"1\" class=\"dataframe\">\n",
       "  <thead>\n",
       "    <tr style=\"text-align: right;\">\n",
       "      <th></th>\n",
       "      <th>title</th>\n",
       "      <th>selftext</th>\n",
       "      <th>over_18</th>\n",
       "      <th>subreddit</th>\n",
       "      <th>time</th>\n",
       "      <th>id</th>\n",
       "      <th>flair</th>\n",
       "    </tr>\n",
       "  </thead>\n",
       "  <tbody>\n",
       "    <tr>\n",
       "      <th>0</th>\n",
       "      <td>[DISC] Lying Brides and Same-Sex Marriage Theo...</td>\n",
       "      <td>NaN</td>\n",
       "      <td>False</td>\n",
       "      <td>manga</td>\n",
       "      <td>1.707316e+09</td>\n",
       "      <td>1al3zwm</td>\n",
       "      <td>DISC</td>\n",
       "    </tr>\n",
       "    <tr>\n",
       "      <th>1</th>\n",
       "      <td>help finding a manga</td>\n",
       "      <td>hi guys im literally going crazy trying to fin...</td>\n",
       "      <td>False</td>\n",
       "      <td>manga</td>\n",
       "      <td>1.706583e+09</td>\n",
       "      <td>1aee2m5</td>\n",
       "      <td>NaN</td>\n",
       "    </tr>\n",
       "    <tr>\n",
       "      <th>2</th>\n",
       "      <td>[DISC] Daredemo Dakeru Kimi ga Suki - Ch. 29 -...</td>\n",
       "      <td>NaN</td>\n",
       "      <td>True</td>\n",
       "      <td>manga</td>\n",
       "      <td>1.707195e+09</td>\n",
       "      <td>1ak1l0c</td>\n",
       "      <td>DISC</td>\n",
       "    </tr>\n",
       "    <tr>\n",
       "      <th>3</th>\n",
       "      <td>[Art] - \"Smoking Behind the Supermarket With Y...</td>\n",
       "      <td>NaN</td>\n",
       "      <td>False</td>\n",
       "      <td>manga</td>\n",
       "      <td>1.706111e+09</td>\n",
       "      <td>19ejyc8</td>\n",
       "      <td>ART</td>\n",
       "    </tr>\n",
       "    <tr>\n",
       "      <th>4</th>\n",
       "      <td>[DISC] The Knight King Who Returned with a God...</td>\n",
       "      <td>NaN</td>\n",
       "      <td>False</td>\n",
       "      <td>manga</td>\n",
       "      <td>1.707007e+09</td>\n",
       "      <td>1aiaq4a</td>\n",
       "      <td>DISC</td>\n",
       "    </tr>\n",
       "  </tbody>\n",
       "</table>\n",
       "</div>"
      ],
      "text/plain": [
       "                                               title  \\\n",
       "0  [DISC] Lying Brides and Same-Sex Marriage Theo...   \n",
       "1                               help finding a manga   \n",
       "2  [DISC] Daredemo Dakeru Kimi ga Suki - Ch. 29 -...   \n",
       "3  [Art] - \"Smoking Behind the Supermarket With Y...   \n",
       "4  [DISC] The Knight King Who Returned with a God...   \n",
       "\n",
       "                                            selftext  over_18 subreddit  \\\n",
       "0                                                NaN    False     manga   \n",
       "1  hi guys im literally going crazy trying to fin...    False     manga   \n",
       "2                                                NaN     True     manga   \n",
       "3                                                NaN    False     manga   \n",
       "4                                                NaN    False     manga   \n",
       "\n",
       "           time       id flair  \n",
       "0  1.707316e+09  1al3zwm  DISC  \n",
       "1  1.706583e+09  1aee2m5   NaN  \n",
       "2  1.707195e+09  1ak1l0c  DISC  \n",
       "3  1.706111e+09  19ejyc8   ART  \n",
       "4  1.707007e+09  1aiaq4a  DISC  "
      ]
     },
     "execution_count": 10,
     "metadata": {},
     "output_type": "execute_result"
    }
   ],
   "source": [
    "#Anyways, we'll be adding the title to them all, so let's go ahead and combine them:\n",
    "df = pd.concat([mt, at])\n",
    "df = df.reset_index(drop=True)\n",
    "#df.drop(['index'], axis = 1)\n",
    "print(df.shape)\n",
    "#Anyways, we now have our total anime and manga table. We'll do a bit more EDA then continue.\n",
    "df.head()"
   ]
  },
  {
   "cell_type": "code",
   "execution_count": 11,
   "id": "c2c8b2a1",
   "metadata": {},
   "outputs": [
    {
     "data": {
      "text/plain": [
       "title           0\n",
       "selftext     3064\n",
       "over_18         0\n",
       "subreddit       0\n",
       "time            0\n",
       "id              0\n",
       "flair        3417\n",
       "dtype: int64"
      ]
     },
     "execution_count": 11,
     "metadata": {},
     "output_type": "execute_result"
    }
   ],
   "source": [
    "df.isnull().sum()  #Unsuprisingly high amounts of flair nulls, as we didn't correct them in our original data pulls.\n",
    "#Plus, a lot of the other pulls were just nulls... "
   ]
  },
  {
   "cell_type": "code",
   "execution_count": 12,
   "id": "bd64d78f",
   "metadata": {},
   "outputs": [
    {
     "data": {
      "text/plain": [
       "over_18\n",
       "False    0.966601\n",
       "True     0.033399\n",
       "Name: proportion, dtype: float64"
      ]
     },
     "execution_count": 12,
     "metadata": {},
     "output_type": "execute_result"
    }
   ],
   "source": [
    "df['over_18'].value_counts(normalize=True) #Might be fun to look into, but for now we'll just be focusing on the main text.\n",
    "#Potentially finally flair in this iteration of the project."
   ]
  },
  {
   "cell_type": "code",
   "execution_count": 13,
   "id": "e7e62d6c",
   "metadata": {},
   "outputs": [
    {
     "data": {
      "text/plain": [
       "subreddit\n",
       "anime     53\n",
       "manga    251\n",
       "Name: over_18, dtype: int64"
      ]
     },
     "execution_count": 13,
     "metadata": {},
     "output_type": "execute_result"
    }
   ],
   "source": [
    "df.groupby('subreddit')['over_18'].sum() #Interesting dichotamy. Then again, likely more regulation over TV. Heh, could\n",
    "#think of a few fun examples already where the anime was waaaay toned down over the manga."
   ]
  },
  {
   "cell_type": "code",
   "execution_count": 14,
   "id": "6ecf8605",
   "metadata": {},
   "outputs": [
    {
     "data": {
      "text/plain": [
       "subreddit\n",
       "anime    3641\n",
       "manga    2044\n",
       "Name: flair, dtype: int64"
      ]
     },
     "execution_count": 14,
     "metadata": {},
     "output_type": "execute_result"
    }
   ],
   "source": [
    "df.groupby('subreddit')['flair'].count()#Hmm, another interesting thing. Honestly upon thinking about it more, the over18\n",
    "#albeit rare, is a sign that likely it's probably manga.... for sure tipping that in with other factors.\n",
    "\n",
    "#And now, we see a much greater proporton of flairs in anime than manga, regardless of what the flair evn is.\n",
    "#On the topic, might be worthwhile to then combine flair into the main self text for analysis....\n",
    "#or maybe keep it separate. Regardless, the presence of a flair is also more likely to make a post be identified as anime.\n",
    "\n",
    "#And again, recall how albeit the first few posts I did not pull flair - THAT APPLIED TO BOTH OF THEM. Truthfully, I"
   ]
  },
  {
   "cell_type": "code",
   "execution_count": 15,
   "id": "b8cfa22d",
   "metadata": {},
   "outputs": [
    {
     "name": "stdout",
     "output_type": "stream",
     "text": [
      "2420 0.5317512634585805\n",
      "644 0.14150736101955613\n"
     ]
    }
   ],
   "source": [
    "#Yeah, look below - while over half of the mangas are null, only 15% of animes are. See below.\n",
    "print(df[df['subreddit']=='manga']['selftext'].isnull().sum(), df[df['subreddit']=='manga']['selftext'].isnull().sum()/df[df['subreddit']=='manga']['selftext'].isnull().count())\n",
    "print(df[df['subreddit']=='anime']['selftext'].isnull().sum(), df[df['subreddit']=='anime']['selftext'].isnull().sum()/df[df['subreddit']=='anime']['selftext'].isnull().count())"
   ]
  },
  {
   "cell_type": "markdown",
   "id": "68ffe74d",
   "metadata": {},
   "source": [
    "## Deciding the NLP Target\n",
    "\n",
    "Bottom line, the current decision is to make a new column, joining together title, assuming significace in that (plus a way\n",
    "to deal with all of those nulls...). Note that we will do this to all things, as all posts have a title [likly].\n",
    "Pragmatically, when we later look at average word count, albeit not counting images and the like, we'd expect manga\n",
    "to be less [a bit ironic considering it's the written version...]."
   ]
  },
  {
   "cell_type": "code",
   "execution_count": 16,
   "id": "11b1d548",
   "metadata": {},
   "outputs": [
    {
     "data": {
      "text/html": [
       "<div>\n",
       "<style scoped>\n",
       "    .dataframe tbody tr th:only-of-type {\n",
       "        vertical-align: middle;\n",
       "    }\n",
       "\n",
       "    .dataframe tbody tr th {\n",
       "        vertical-align: top;\n",
       "    }\n",
       "\n",
       "    .dataframe thead th {\n",
       "        text-align: right;\n",
       "    }\n",
       "</style>\n",
       "<table border=\"1\" class=\"dataframe\">\n",
       "  <thead>\n",
       "    <tr style=\"text-align: right;\">\n",
       "      <th></th>\n",
       "      <th>title</th>\n",
       "      <th>selftext</th>\n",
       "      <th>over_18</th>\n",
       "      <th>subreddit</th>\n",
       "      <th>time</th>\n",
       "      <th>id</th>\n",
       "      <th>flair</th>\n",
       "      <th>post</th>\n",
       "    </tr>\n",
       "  </thead>\n",
       "  <tbody>\n",
       "    <tr>\n",
       "      <th>0</th>\n",
       "      <td>[DISC] Lying Brides and Same-Sex Marriage Theo...</td>\n",
       "      <td></td>\n",
       "      <td>False</td>\n",
       "      <td>manga</td>\n",
       "      <td>1.707316e+09</td>\n",
       "      <td>1al3zwm</td>\n",
       "      <td>DISC</td>\n",
       "      <td>[DISC] Lying Brides and Same-Sex Marriage Theo...</td>\n",
       "    </tr>\n",
       "    <tr>\n",
       "      <th>1</th>\n",
       "      <td>help finding a manga</td>\n",
       "      <td>hi guys im literally going crazy trying to fin...</td>\n",
       "      <td>False</td>\n",
       "      <td>manga</td>\n",
       "      <td>1.706583e+09</td>\n",
       "      <td>1aee2m5</td>\n",
       "      <td></td>\n",
       "      <td>help finding a manga hi guys im literally goin...</td>\n",
       "    </tr>\n",
       "    <tr>\n",
       "      <th>2</th>\n",
       "      <td>[DISC] Daredemo Dakeru Kimi ga Suki - Ch. 29 -...</td>\n",
       "      <td></td>\n",
       "      <td>True</td>\n",
       "      <td>manga</td>\n",
       "      <td>1.707195e+09</td>\n",
       "      <td>1ak1l0c</td>\n",
       "      <td>DISC</td>\n",
       "      <td>[DISC] Daredemo Dakeru Kimi ga Suki - Ch. 29 -...</td>\n",
       "    </tr>\n",
       "    <tr>\n",
       "      <th>3</th>\n",
       "      <td>[Art] - \"Smoking Behind the Supermarket With Y...</td>\n",
       "      <td></td>\n",
       "      <td>False</td>\n",
       "      <td>manga</td>\n",
       "      <td>1.706111e+09</td>\n",
       "      <td>19ejyc8</td>\n",
       "      <td>ART</td>\n",
       "      <td>[Art] - \"Smoking Behind the Supermarket With Y...</td>\n",
       "    </tr>\n",
       "    <tr>\n",
       "      <th>4</th>\n",
       "      <td>[DISC] The Knight King Who Returned with a God...</td>\n",
       "      <td></td>\n",
       "      <td>False</td>\n",
       "      <td>manga</td>\n",
       "      <td>1.707007e+09</td>\n",
       "      <td>1aiaq4a</td>\n",
       "      <td>DISC</td>\n",
       "      <td>[DISC] The Knight King Who Returned with a God...</td>\n",
       "    </tr>\n",
       "  </tbody>\n",
       "</table>\n",
       "</div>"
      ],
      "text/plain": [
       "                                               title  \\\n",
       "0  [DISC] Lying Brides and Same-Sex Marriage Theo...   \n",
       "1                               help finding a manga   \n",
       "2  [DISC] Daredemo Dakeru Kimi ga Suki - Ch. 29 -...   \n",
       "3  [Art] - \"Smoking Behind the Supermarket With Y...   \n",
       "4  [DISC] The Knight King Who Returned with a God...   \n",
       "\n",
       "                                            selftext  over_18 subreddit  \\\n",
       "0                                                       False     manga   \n",
       "1  hi guys im literally going crazy trying to fin...    False     manga   \n",
       "2                                                        True     manga   \n",
       "3                                                       False     manga   \n",
       "4                                                       False     manga   \n",
       "\n",
       "           time       id flair  \\\n",
       "0  1.707316e+09  1al3zwm  DISC   \n",
       "1  1.706583e+09  1aee2m5         \n",
       "2  1.707195e+09  1ak1l0c  DISC   \n",
       "3  1.706111e+09  19ejyc8   ART   \n",
       "4  1.707007e+09  1aiaq4a  DISC   \n",
       "\n",
       "                                                post  \n",
       "0  [DISC] Lying Brides and Same-Sex Marriage Theo...  \n",
       "1  help finding a manga hi guys im literally goin...  \n",
       "2  [DISC] Daredemo Dakeru Kimi ga Suki - Ch. 29 -...  \n",
       "3  [Art] - \"Smoking Behind the Supermarket With Y...  \n",
       "4  [DISC] The Knight King Who Returned with a God...  "
      ]
     },
     "execution_count": 16,
     "metadata": {},
     "output_type": "execute_result"
    }
   ],
   "source": [
    "df = df.fillna(\"\")\n",
    "df['post'] = df['title'] + \" \" + df['selftext']\n",
    "df.head()"
   ]
  },
  {
   "cell_type": "code",
   "execution_count": 17,
   "id": "61c9dbca",
   "metadata": {},
   "outputs": [
    {
     "name": "stdout",
     "output_type": "stream",
     "text": [
      "over_18\n",
      "0    0.966601\n",
      "1    0.033399\n",
      "Name: proportion, dtype: float64\n",
      "            count      mean       std  min  25%  50%  75%  max\n",
      "subreddit                                                     \n",
      "anime      4551.0  0.011646  0.107297  0.0  0.0  0.0  0.0  1.0\n",
      "manga      4551.0  0.055153  0.228303  0.0  0.0  0.0  0.0  1.0\n"
     ]
    }
   ],
   "source": [
    "#Tangential to our current step, but I can't resist:\n",
    "df['over_18'] = df['over_18'].astype(int)\n",
    "print(df['over_18'].value_counts(normalize=True))\n",
    "print(df.groupby('subreddit')['over_18'].describe()) #Interestingly an almost 1:4 ratio between the two. Of also interest\n",
    "#is the general discrepency between images/text (see below after our basic post cleaning)."
   ]
  },
  {
   "cell_type": "code",
   "execution_count": 18,
   "id": "a1ff1b4f",
   "metadata": {},
   "outputs": [
    {
     "data": {
      "text/plain": [
       "subreddit\n",
       "0    0.5\n",
       "1    0.5\n",
       "Name: proportion, dtype: float64"
      ]
     },
     "execution_count": 18,
     "metadata": {},
     "output_type": "execute_result"
    }
   ],
   "source": [
    "#Anyways, that reminds me to do the same integerizing to our subreddit:\n",
    "df['subreddit'] = df['subreddit'].map(dict(anime=1, manga=0))\n",
    "df['subreddit'].value_counts(normalize=True)"
   ]
  },
  {
   "cell_type": "markdown",
   "id": "94e93212",
   "metadata": {},
   "source": [
    "## Cleaning Time\n",
    "\n",
    "I thought a lot about the following, but bottom line I insist on doing a bit of cleaning now:"
   ]
  },
  {
   "cell_type": "code",
   "execution_count": 19,
   "id": "bd6f1594",
   "metadata": {},
   "outputs": [],
   "source": [
    "#Hmm, let's start by breaking apart the comments, trying to get an aveage word count...\n",
    "def document_words(raw_document):\n",
    "\n",
    "    #Remove some various html hiccups that may have crept in.\n",
    "    document_text = BeautifulSoup(raw_document).get_text()\n",
    "    \n",
    "    #Further purge it via regex to keep only characters per Regex. For sure in this case I'm keeping numbers\n",
    "    letters_only = re.sub(\"[^a-zA-Z0-9]\", \" \", document_text)\n",
    "    #Convert to lower case, split into individual words.\n",
    "        #Note that potentially '[' and the like should have been kept to delient flairs... oh well\n",
    "    \n",
    "    #Re. lowercasing: I have a string feeling we'll be seeing a lot of acronyms, that will hopefully be capitalized.\n",
    "    #So, we'll leav this alone... Perhaps do some regex later/go back and rerunthis, but for at least an initial look...\n",
    "    #words = letters_only.lower().split()\n",
    "    #Note, that we've already alluded to potential concerns. re spelling - not only in Englsih but now we might have\n",
    "    #to be wary of Japanse spelling errors... Furthermore, potential misclassification via capitlzation discrepencies.\n",
    "    #Regardless... Oh, what we could do is make regex code for if it's just capital letters keep it... HMm... Yeah\n",
    "    #Let's do that.\n",
    "    \n",
    "    #Note, the regex I'd need should be as follows: /[A-Z]{2,}/gm... Yeah, this might get tricky with Regex... Let's\n",
    "    #make this simple and more user-friendly, albeit likely only a technical audience is reading all this:\n",
    "    \n",
    "    #Again, in retrospect maybe it would be recognizable...\n",
    "    #but in case a word's acrnoym is a stopword ie if 'FOR' means something... would otherwise get lost...\n",
    "    #Note, and likely redundant by now and the reader gets the point, but we'd still have to be wary of people lowercasing\n",
    "    #an acrnonym...\n",
    "    \n",
    "    #Note, the regex I'd need should be as follows: /[A-Z]{2,}/gm\n",
    "    \n",
    "    #The following should be what I want. Might even keep this for other cases...\n",
    "    \n",
    "    words = letters_only.split()\n",
    "    words = [w if w.isupper() else w.lower() for w in words]\n",
    "    \n",
    "    #AFTER, thinking about matters, I decided to leave stopwords to hyperparamter tuning, as perhaps certain\n",
    "    #eddits don't spell... For now we'll keep stemming though.\n",
    "    \n",
    "    #Removing stopwords per my default policy of keeping things simple. Note that we may need to go back\n",
    "    #to this and certain key English words in this domain might matter. Furthermore, we'll need to be wary of Japanese\n",
    "    #stop words. Ie we already see one in the first comments - 'Monster Musume no Iu Nichijou' translate to\n",
    "    #'Everyday Life with a Monster Girl' where 'no' in Japanese roughly translates to 'of', context dependent as we\n",
    "    #see already. In this example the two stop words would overlap. Pragmatically, there may be an example I'm not sure\n",
    "    #of, but you never know...\n",
    "    \n",
    "    #stops = set(stopwords.words('english'))#Note that I did see something about J. stop words.\n",
    "    #meaningful_words = [w for w in words if w not in stops]\n",
    "        #Hmm, I wonder if I should worry about 1 letter capital words... eh, at most 26... then I....\n",
    "    \n",
    "    #Stemming words... Hmm. Generally I am a big believer in stemming, but when dealing with another language I am\n",
    "    #a bit more hesitant. As a default we'll go with it.\n",
    "        #After completing the 'project' for the first time, in retrospect I think it would be important to experiment\n",
    "        #with not neccesarily stemming everything - especially when ultimately we deal with titles and have a much\n",
    "        #smaller base of words to experiment with, as opposed to the original ocean called posts.\n",
    "    p_stemmer = PorterStemmer()\n",
    "    stemmed_words = [p_stemmer.stem(i, to_lowercase=False) for i in words]\n",
    "    \n",
    "    #Note, that although it may proove worthwhile to lemmatize and retain more features, as lemmatization only lightly\n",
    "    #trims words, I prefer the more reductionalist result of stemming to cut down even more words to represent many.\n",
    "    \n",
    "    #And finally, let us merge back everything to a new document.\n",
    "    return(\" \".join(stemmed_words))"
   ]
  },
  {
   "cell_type": "code",
   "execution_count": 20,
   "id": "7c67bd95",
   "metadata": {},
   "outputs": [
    {
     "name": "stderr",
     "output_type": "stream",
     "text": [
      "C:\\Users\\bwolf\\AppData\\Local\\Temp\\ipykernel_17468\\2532007743.py:5: MarkupResemblesLocatorWarning: The input looks more like a filename than markup. You may want to open this file and pass the filehandle into Beautiful Soup.\n",
      "  document_text = BeautifulSoup(raw_document).get_text()\n"
     ]
    }
   ],
   "source": [
    " df['cleaned_post'] = df['post'].apply(document_words)"
   ]
  },
  {
   "cell_type": "code",
   "execution_count": 21,
   "id": "39abe92d",
   "metadata": {},
   "outputs": [
    {
     "name": "stderr",
     "output_type": "stream",
     "text": [
      "C:\\Users\\bwolf\\AppData\\Local\\Temp\\ipykernel_17468\\2532007743.py:5: MarkupResemblesLocatorWarning: The input looks more like a filename than markup. You may want to open this file and pass the filehandle into Beautiful Soup.\n",
      "  document_text = BeautifulSoup(raw_document).get_text()\n"
     ]
    }
   ],
   "source": [
    " df['cleaned_title'] = df['title'].apply(document_words) #With present time obligations, I doubt I will explore this, but\n",
    "#hopefully in the future. See below when we examine word length."
   ]
  },
  {
   "cell_type": "code",
   "execution_count": 22,
   "id": "6461ff5a",
   "metadata": {},
   "outputs": [
    {
     "data": {
      "text/html": [
       "<div>\n",
       "<style scoped>\n",
       "    .dataframe tbody tr th:only-of-type {\n",
       "        vertical-align: middle;\n",
       "    }\n",
       "\n",
       "    .dataframe tbody tr th {\n",
       "        vertical-align: top;\n",
       "    }\n",
       "\n",
       "    .dataframe thead th {\n",
       "        text-align: right;\n",
       "    }\n",
       "</style>\n",
       "<table border=\"1\" class=\"dataframe\">\n",
       "  <thead>\n",
       "    <tr style=\"text-align: right;\">\n",
       "      <th></th>\n",
       "      <th>title</th>\n",
       "      <th>selftext</th>\n",
       "      <th>over_18</th>\n",
       "      <th>subreddit</th>\n",
       "      <th>time</th>\n",
       "      <th>id</th>\n",
       "      <th>flair</th>\n",
       "      <th>post</th>\n",
       "      <th>cleaned_post</th>\n",
       "      <th>cleaned_title</th>\n",
       "    </tr>\n",
       "  </thead>\n",
       "  <tbody>\n",
       "    <tr>\n",
       "      <th>0</th>\n",
       "      <td>[DISC] Lying Brides and Same-Sex Marriage Theo...</td>\n",
       "      <td></td>\n",
       "      <td>0</td>\n",
       "      <td>0</td>\n",
       "      <td>1.707316e+09</td>\n",
       "      <td>1al3zwm</td>\n",
       "      <td>DISC</td>\n",
       "      <td>[DISC] Lying Brides and Same-Sex Marriage Theo...</td>\n",
       "      <td>DISC lie bride and same sex marriag theori cha...</td>\n",
       "      <td>DISC lie bride and same sex marriag theori cha...</td>\n",
       "    </tr>\n",
       "    <tr>\n",
       "      <th>1</th>\n",
       "      <td>help finding a manga</td>\n",
       "      <td>hi guys im literally going crazy trying to fin...</td>\n",
       "      <td>0</td>\n",
       "      <td>0</td>\n",
       "      <td>1.706583e+09</td>\n",
       "      <td>1aee2m5</td>\n",
       "      <td></td>\n",
       "      <td>help finding a manga hi guys im literally goin...</td>\n",
       "      <td>help find a manga hi guy im liter go crazi tri...</td>\n",
       "      <td>help find a manga</td>\n",
       "    </tr>\n",
       "    <tr>\n",
       "      <th>2</th>\n",
       "      <td>[DISC] Daredemo Dakeru Kimi ga Suki - Ch. 29 -...</td>\n",
       "      <td></td>\n",
       "      <td>1</td>\n",
       "      <td>0</td>\n",
       "      <td>1.707195e+09</td>\n",
       "      <td>1ak1l0c</td>\n",
       "      <td>DISC</td>\n",
       "      <td>[DISC] Daredemo Dakeru Kimi ga Suki - Ch. 29 -...</td>\n",
       "      <td>DISC daredemo dakeru kimi ga suki ch 29 remind...</td>\n",
       "      <td>DISC daredemo dakeru kimi ga suki ch 29 remind...</td>\n",
       "    </tr>\n",
       "    <tr>\n",
       "      <th>3</th>\n",
       "      <td>[Art] - \"Smoking Behind the Supermarket With Y...</td>\n",
       "      <td></td>\n",
       "      <td>0</td>\n",
       "      <td>0</td>\n",
       "      <td>1.706111e+09</td>\n",
       "      <td>19ejyc8</td>\n",
       "      <td>ART</td>\n",
       "      <td>[Art] - \"Smoking Behind the Supermarket With Y...</td>\n",
       "      <td>art smoke behind the supermarket with you colo...</td>\n",
       "      <td>art smoke behind the supermarket with you colo...</td>\n",
       "    </tr>\n",
       "    <tr>\n",
       "      <th>4</th>\n",
       "      <td>[DISC] The Knight King Who Returned with a God...</td>\n",
       "      <td></td>\n",
       "      <td>0</td>\n",
       "      <td>0</td>\n",
       "      <td>1.707007e+09</td>\n",
       "      <td>1aiaq4a</td>\n",
       "      <td>DISC</td>\n",
       "      <td>[DISC] The Knight King Who Returned with a God...</td>\n",
       "      <td>DISC the knight king who return with a god cha...</td>\n",
       "      <td>DISC the knight king who return with a god cha...</td>\n",
       "    </tr>\n",
       "  </tbody>\n",
       "</table>\n",
       "</div>"
      ],
      "text/plain": [
       "                                               title  \\\n",
       "0  [DISC] Lying Brides and Same-Sex Marriage Theo...   \n",
       "1                               help finding a manga   \n",
       "2  [DISC] Daredemo Dakeru Kimi ga Suki - Ch. 29 -...   \n",
       "3  [Art] - \"Smoking Behind the Supermarket With Y...   \n",
       "4  [DISC] The Knight King Who Returned with a God...   \n",
       "\n",
       "                                            selftext  over_18  subreddit  \\\n",
       "0                                                           0          0   \n",
       "1  hi guys im literally going crazy trying to fin...        0          0   \n",
       "2                                                           1          0   \n",
       "3                                                           0          0   \n",
       "4                                                           0          0   \n",
       "\n",
       "           time       id flair  \\\n",
       "0  1.707316e+09  1al3zwm  DISC   \n",
       "1  1.706583e+09  1aee2m5         \n",
       "2  1.707195e+09  1ak1l0c  DISC   \n",
       "3  1.706111e+09  19ejyc8   ART   \n",
       "4  1.707007e+09  1aiaq4a  DISC   \n",
       "\n",
       "                                                post  \\\n",
       "0  [DISC] Lying Brides and Same-Sex Marriage Theo...   \n",
       "1  help finding a manga hi guys im literally goin...   \n",
       "2  [DISC] Daredemo Dakeru Kimi ga Suki - Ch. 29 -...   \n",
       "3  [Art] - \"Smoking Behind the Supermarket With Y...   \n",
       "4  [DISC] The Knight King Who Returned with a God...   \n",
       "\n",
       "                                        cleaned_post  \\\n",
       "0  DISC lie bride and same sex marriag theori cha...   \n",
       "1  help find a manga hi guy im liter go crazi tri...   \n",
       "2  DISC daredemo dakeru kimi ga suki ch 29 remind...   \n",
       "3  art smoke behind the supermarket with you colo...   \n",
       "4  DISC the knight king who return with a god cha...   \n",
       "\n",
       "                                       cleaned_title  \n",
       "0  DISC lie bride and same sex marriag theori cha...  \n",
       "1                                  help find a manga  \n",
       "2  DISC daredemo dakeru kimi ga suki ch 29 remind...  \n",
       "3  art smoke behind the supermarket with you colo...  \n",
       "4  DISC the knight king who return with a god cha...  "
      ]
     },
     "execution_count": 22,
     "metadata": {},
     "output_type": "execute_result"
    }
   ],
   "source": [
    "df.head()"
   ]
  },
  {
   "cell_type": "code",
   "execution_count": 24,
   "id": "2fd070db",
   "metadata": {},
   "outputs": [],
   "source": [
    "i = -1"
   ]
  },
  {
   "cell_type": "code",
   "execution_count": 32,
   "id": "6f284d53",
   "metadata": {},
   "outputs": [
    {
     "name": "stdout",
     "output_type": "stream",
     "text": [
      "[NEWS] 2023 oneshot “Bug Ego” from ONE & Kiyoto Shitara serialization announced\n",
      "NEWS 2023 oneshot bug ego from ONE kiyoto shitara serial announc\n"
     ]
    }
   ],
   "source": [
    "i +=1\n",
    "print(df['title'][i])\n",
    "print(df['cleaned_title'][i]) #Just doing a bit of a before and after:"
   ]
  },
  {
   "cell_type": "code",
   "execution_count": null,
   "id": "16b333aa",
   "metadata": {},
   "outputs": [],
   "source": [
    "#Remember that 'post' represents the 'complete' post of the user, combining their post's title and body.\n",
    "i +=1\n",
    "print(df['post'][i])\n",
    "print(df['cleaned_post'][i])"
   ]
  },
  {
   "cell_type": "code",
   "execution_count": 33,
   "id": "0887d8a6",
   "metadata": {},
   "outputs": [],
   "source": [
    "#Go time for word_counting\n",
    "df['word_count_post'] =  df['cleaned_post'].str.split().str.len()\n",
    "df['word_count_title'] =  df['cleaned_title'].str.split().str.len()"
   ]
  },
  {
   "cell_type": "code",
   "execution_count": 34,
   "id": "8a7df8b4",
   "metadata": {},
   "outputs": [
    {
     "data": {
      "text/plain": [
       "count    9102.000000\n",
       "mean       81.515931\n",
       "std       177.505694\n",
       "min         0.000000\n",
       "25%        12.000000\n",
       "50%        46.000000\n",
       "75%        94.000000\n",
       "max      6397.000000\n",
       "Name: word_count_post, dtype: float64"
      ]
     },
     "execution_count": 34,
     "metadata": {},
     "output_type": "execute_result"
    }
   ],
   "source": [
    "df['word_count_post'].describe() #Very nice... I'm unsure what's typical, but this is looking well so far.\n",
    "#Notice something quite interesting: the mean is almost double the median! And, we can tell the max post is quite big...\n",
    "#a potential outlier to get rid of, but for now."
   ]
  },
  {
   "cell_type": "code",
   "execution_count": 35,
   "id": "c554122a",
   "metadata": {},
   "outputs": [
    {
     "name": "stdout",
     "output_type": "stream",
     "text": [
      "subreddit\n",
      "0    0.797434\n",
      "1    0.202566\n",
      "Name: proportion, dtype: float64\n",
      "2182\n"
     ]
    }
   ],
   "source": [
    "print(df[df['word_count_post'] < 12]['subreddit'].value_counts(normalize=True)) #See below.\n",
    "print(len(df[df['word_count_post'] < 12]['subreddit']))"
   ]
  },
  {
   "cell_type": "code",
   "execution_count": 44,
   "id": "ec460a3c",
   "metadata": {},
   "outputs": [
    {
     "data": {
      "text/html": [
       "<div>\n",
       "<style scoped>\n",
       "    .dataframe tbody tr th:only-of-type {\n",
       "        vertical-align: middle;\n",
       "    }\n",
       "\n",
       "    .dataframe tbody tr th {\n",
       "        vertical-align: top;\n",
       "    }\n",
       "\n",
       "    .dataframe thead th {\n",
       "        text-align: right;\n",
       "    }\n",
       "</style>\n",
       "<table border=\"1\" class=\"dataframe\">\n",
       "  <thead>\n",
       "    <tr style=\"text-align: right;\">\n",
       "      <th></th>\n",
       "      <th>count</th>\n",
       "      <th>mean</th>\n",
       "      <th>std</th>\n",
       "      <th>min</th>\n",
       "      <th>25%</th>\n",
       "      <th>50%</th>\n",
       "      <th>75%</th>\n",
       "      <th>max</th>\n",
       "    </tr>\n",
       "    <tr>\n",
       "      <th>subreddit</th>\n",
       "      <th></th>\n",
       "      <th></th>\n",
       "      <th></th>\n",
       "      <th></th>\n",
       "      <th></th>\n",
       "      <th></th>\n",
       "      <th></th>\n",
       "      <th></th>\n",
       "    </tr>\n",
       "  </thead>\n",
       "  <tbody>\n",
       "    <tr>\n",
       "      <th>0</th>\n",
       "      <td>4551.0</td>\n",
       "      <td>50.056032</td>\n",
       "      <td>131.886952</td>\n",
       "      <td>0.0</td>\n",
       "      <td>8.0</td>\n",
       "      <td>17.0</td>\n",
       "      <td>62.0</td>\n",
       "      <td>3422.0</td>\n",
       "    </tr>\n",
       "    <tr>\n",
       "      <th>1</th>\n",
       "      <td>4551.0</td>\n",
       "      <td>112.975829</td>\n",
       "      <td>208.924422</td>\n",
       "      <td>4.0</td>\n",
       "      <td>38.0</td>\n",
       "      <td>68.0</td>\n",
       "      <td>131.0</td>\n",
       "      <td>6397.0</td>\n",
       "    </tr>\n",
       "  </tbody>\n",
       "</table>\n",
       "</div>"
      ],
      "text/plain": [
       "            count        mean         std  min   25%   50%    75%     max\n",
       "subreddit                                                                \n",
       "0          4551.0   50.056032  131.886952  0.0   8.0  17.0   62.0  3422.0\n",
       "1          4551.0  112.975829  208.924422  4.0  38.0  68.0  131.0  6397.0"
      ]
     },
     "execution_count": 44,
     "metadata": {},
     "output_type": "execute_result"
    }
   ],
   "source": [
    "df.groupby('subreddit')['word_count_post'].describe() #Overall unsurprisingly given how many more nulls there were in\n",
    "#manga and pragmatically the main post would be longer than the title. Hence, the discrepency between\n",
    "#the medians - as the median manga's word count was only generated from its title!\n",
    "#Note that if you factor out the title and replace a picture [that's supposed to be worth a 'thousand words'] with 50-60\n",
    "#words, both the mean and median of manga posts approximate anime posts' length. Perhaps something true of all subreddits, or\n",
    "#at least these two domains... Regardless, we continue."
   ]
  },
  {
   "cell_type": "code",
   "execution_count": 38,
   "id": "d61b942f",
   "metadata": {},
   "outputs": [
    {
     "data": {
      "text/html": [
       "<div>\n",
       "<style scoped>\n",
       "    .dataframe tbody tr th:only-of-type {\n",
       "        vertical-align: middle;\n",
       "    }\n",
       "\n",
       "    .dataframe tbody tr th {\n",
       "        vertical-align: top;\n",
       "    }\n",
       "\n",
       "    .dataframe thead th {\n",
       "        text-align: right;\n",
       "    }\n",
       "</style>\n",
       "<table border=\"1\" class=\"dataframe\">\n",
       "  <thead>\n",
       "    <tr style=\"text-align: right;\">\n",
       "      <th></th>\n",
       "      <th>count</th>\n",
       "      <th>mean</th>\n",
       "      <th>std</th>\n",
       "      <th>min</th>\n",
       "      <th>25%</th>\n",
       "      <th>50%</th>\n",
       "      <th>75%</th>\n",
       "      <th>max</th>\n",
       "    </tr>\n",
       "    <tr>\n",
       "      <th>subreddit</th>\n",
       "      <th></th>\n",
       "      <th></th>\n",
       "      <th></th>\n",
       "      <th></th>\n",
       "      <th></th>\n",
       "      <th></th>\n",
       "      <th></th>\n",
       "      <th></th>\n",
       "    </tr>\n",
       "  </thead>\n",
       "  <tbody>\n",
       "    <tr>\n",
       "      <th>0</th>\n",
       "      <td>4551.0</td>\n",
       "      <td>9.149637</td>\n",
       "      <td>5.937312</td>\n",
       "      <td>0.0</td>\n",
       "      <td>5.0</td>\n",
       "      <td>8.0</td>\n",
       "      <td>11.0</td>\n",
       "      <td>60.0</td>\n",
       "    </tr>\n",
       "    <tr>\n",
       "      <th>1</th>\n",
       "      <td>4551.0</td>\n",
       "      <td>9.412876</td>\n",
       "      <td>5.671661</td>\n",
       "      <td>3.0</td>\n",
       "      <td>6.0</td>\n",
       "      <td>8.0</td>\n",
       "      <td>11.0</td>\n",
       "      <td>59.0</td>\n",
       "    </tr>\n",
       "  </tbody>\n",
       "</table>\n",
       "</div>"
      ],
      "text/plain": [
       "            count      mean       std  min  25%  50%   75%   max\n",
       "subreddit                                                       \n",
       "0          4551.0  9.149637  5.937312  0.0  5.0  8.0  11.0  60.0\n",
       "1          4551.0  9.412876  5.671661  3.0  6.0  8.0  11.0  59.0"
      ]
     },
     "execution_count": 38,
     "metadata": {},
     "output_type": "execute_result"
    }
   ],
   "source": [
    "df.groupby('subreddit')['word_count_title'].describe() #Now, see something far more even - on the sole basis of word\n",
    "#count in the titles [albeit after our scrubbing] the medians and third quadrants are the same. We have similar means and\n",
    "#first quartile values. Although we see greater values across the fields for animes, they are not so distant as we noticed\n",
    "#earlier with the \"posts\" which for manga was mostly relying on titles.\n",
    "\n",
    "#Also note the 'outliers' of both. Eh, look at the boxplot below to confirm visually, but considering how they both follow\n",
    "#such a trend I am completly unconcened."
   ]
  },
  {
   "cell_type": "code",
   "execution_count": 39,
   "id": "68452b5f",
   "metadata": {},
   "outputs": [
    {
     "data": {
      "text/plain": [
       "subreddit\n",
       "0    2420\n",
       "1     644\n",
       "Name: count, dtype: int64"
      ]
     },
     "execution_count": 39,
     "metadata": {},
     "output_type": "execute_result"
    }
   ],
   "source": [
    "df[df['selftext'] == '']['subreddit'].value_counts()  #So, for ultimately 2420 of the mangas we are relying on their\n",
    "#titles; a mere 30ish percent of that is true for animes."
   ]
  },
  {
   "cell_type": "markdown",
   "id": "4155aaf2",
   "metadata": {},
   "source": [
    "Per the new data that has been gathered, I honestly did not even think to bother to check for the followng until I got an error in the modeling:"
   ]
  },
  {
   "cell_type": "code",
   "execution_count": 46,
   "id": "2d66ca5e",
   "metadata": {},
   "outputs": [
    {
     "data": {
      "text/plain": [
       "title               0\n",
       "selftext            0\n",
       "over_18             0\n",
       "subreddit           0\n",
       "time                0\n",
       "id                  0\n",
       "flair               0\n",
       "post                0\n",
       "cleaned_post        0\n",
       "cleaned_title       0\n",
       "word_count_post     0\n",
       "word_count_title    0\n",
       "dtype: int64"
      ]
     },
     "execution_count": 46,
     "metadata": {},
     "output_type": "execute_result"
    }
   ],
   "source": [
    "df.isnull().sum()"
   ]
  },
  {
   "cell_type": "code",
   "execution_count": 51,
   "id": "0652a273",
   "metadata": {},
   "outputs": [
    {
     "data": {
      "text/plain": [
       "cleaned_post     \n",
       "cleaned_title    \n",
       "Name: 1154, dtype: object"
      ]
     },
     "execution_count": 51,
     "metadata": {},
     "output_type": "execute_result"
    }
   ],
   "source": [
    "df.iloc[1154][['cleaned_post', 'cleaned_title']]"
   ]
  },
  {
   "cell_type": "code",
   "execution_count": 55,
   "id": "b58f947a",
   "metadata": {},
   "outputs": [
    {
     "data": {
      "text/plain": [
       "title       Какого персонажа сериала/ фильма/ аниме/ мульт...\n",
       "selftext                       Интересно узнать ваше мнение:)\n",
       "Name: 1154, dtype: object"
      ]
     },
     "execution_count": 55,
     "metadata": {},
     "output_type": "execute_result"
    }
   ],
   "source": [
    "df.iloc[1154][['title','selftext']] #Hmm, so we have some Russian.... or another Slavic language..."
   ]
  },
  {
   "cell_type": "code",
   "execution_count": 53,
   "id": "b304378e",
   "metadata": {},
   "outputs": [
    {
     "data": {
      "text/plain": [
       "cleaned_post     brother and sister in thi holi art I seem to h...\n",
       "cleaned_title                                                     \n",
       "Name: 3881, dtype: object"
      ]
     },
     "execution_count": 53,
     "metadata": {},
     "output_type": "execute_result"
    }
   ],
   "source": [
    "df.iloc[3881][['cleaned_post', 'cleaned_title']]"
   ]
  },
  {
   "cell_type": "code",
   "execution_count": 56,
   "id": "760486d5",
   "metadata": {},
   "outputs": [
    {
     "data": {
      "text/plain": [
       "title       𝕱𝖊𝖑𝖑𝖔𝖜 𝕯𝖆𝖔𝖎𝖘𝖙𝖘, 𝕳𝖊𝖑𝖕 𝖒𝖊 𝕽𝖊𝖒𝖊𝖒𝖇𝖊𝖗 𝖙𝖍𝖎𝖘 𝖋𝖔𝖗𝖌𝖔𝖙𝖙𝖊...\n",
       "selftext     Brothers and sisters in this holy art, I seem...\n",
       "Name: 3881, dtype: object"
      ]
     },
     "execution_count": 56,
     "metadata": {},
     "output_type": "execute_result"
    }
   ],
   "source": [
    "df.iloc[3881][['title','selftext']] #Hmm, yeah, that's some text editing right there... Eh, I won't bother. We still have over 9k..."
   ]
  },
  {
   "cell_type": "code",
   "execution_count": 57,
   "id": "6360818a",
   "metadata": {},
   "outputs": [],
   "source": [
    "df = df.drop([1154,3881]) #And seemingly this reset the index too. Fine, let's keep going"
   ]
  },
  {
   "cell_type": "code",
   "execution_count": 59,
   "id": "453bc954",
   "metadata": {},
   "outputs": [
    {
     "data": {
      "text/plain": [
       "subreddit\n",
       "1    4551\n",
       "0    4549\n",
       "Name: count, dtype: int64"
      ]
     },
     "execution_count": 59,
     "metadata": {},
     "output_type": "execute_result"
    }
   ],
   "source": [
    "df['subreddit'].value_counts() #Hmm, right now an even 9100.... Yeah, I'll keep it like this. Plus pragamtically they're the same..."
   ]
  },
  {
   "cell_type": "code",
   "execution_count": 62,
   "id": "2d8228c8",
   "metadata": {},
   "outputs": [],
   "source": [
    "#I suppose before we start modeling we'll export our cleaned data [and also start working in a fresh notebook].\n",
    "\n",
    "# df.to_csv('data/cleaned_reddits.csv', index = False)"
   ]
  },
  {
   "cell_type": "code",
   "execution_count": 41,
   "id": "43b30b01",
   "metadata": {},
   "outputs": [
    {
     "data": {
      "image/png": "[encoded data removed]",
      "text/plain": [
       "<Figure size 1000x1000 with 4 Axes>"
      ]
     },
     "metadata": {},
     "output_type": "display_data"
    }
   ],
   "source": [
    "#Since the following is really from the EDA stage, I feel like I'll make the graphs for the word count post/titles here:\n",
    "plt.figure(figsize=(10, 10))\n",
    "\n",
    "ax1 = plt.subplot(2,2,1)\n",
    "ax1.boxplot(df[df['subreddit'] ==0]['word_count_post'], showmeans=True)\n",
    "ax1.set_ylim(0, 200)\n",
    "ax1.set_title(\"Manga Post Word_Count\")\n",
    "\n",
    "ax2 = plt.subplot(2,2,2)\n",
    "ax2.boxplot(df[df['subreddit'] ==1]['word_count_post'], showmeans=True, patch_artist=True)\n",
    "ax2.set_ylim(0, 200)\n",
    "ax2.set_title(\"Anime Post Word_Count\")\n",
    "\n",
    "ax3 = plt.subplot(2,2,3)\n",
    "ax3.boxplot(df[df['subreddit'] ==0]['word_count_title'], showmeans=True)\n",
    "ax3.set_ylim(0, 50)\n",
    "ax3.set_title(\"Manga Title Word_Count\")\n",
    "\n",
    "ax4 = plt.subplot(2,2,4)\n",
    "ax4.boxplot(df[df['subreddit'] ==1]['word_count_title'], showmeans=True, patch_artist=True)\n",
    "ax4.set_ylim(0, 50)\n",
    "ax4.set_title(\"Anime Title Word_Count\")\n",
    "\n",
    "plt.tight_layout();"
   ]
  },
  {
   "cell_type": "code",
   "execution_count": null,
   "id": "f3a908d6",
   "metadata": {},
   "outputs": [],
   "source": [
    "df['cleaned_post']"
   ]
  }
 ],
 "metadata": {
  "kernelspec": {
   "display_name": "Python 3 (ipykernel)",
   "language": "python",
   "name": "python3"
  },
  "language_info": {
   "codemirror_mode": {
    "name": "ipython",
    "version": 3
   },
   "file_extension": ".py",
   "mimetype": "text/x-python",
   "name": "python",
   "nbconvert_exporter": "python",
   "pygments_lexer": "ipython3",
   "version": "3.11.5"
  }
 },
 "nbformat": 4,
 "nbformat_minor": 5
}
