{
 "cells": [
  {
   "cell_type": "code",
   "execution_count": 1,
   "id": "1053eec8",
   "metadata": {},
   "outputs": [],
   "source": [
    "#All right, let's get started with data collection:\n",
    "import pandas as pd\n",
    "import praw\n",
    "import time #Per my paranoia. See later on."
   ]
  },
  {
   "cell_type": "code",
   "execution_count": 2,
   "id": "a3671f62",
   "metadata": {},
   "outputs": [],
   "source": [
    "reddit = praw.Reddit() #Thanks to Heather, Eric, and the crew at PRAW documentation."
   ]
  },
  {
   "cell_type": "code",
   "execution_count": null,
   "id": "a794366c",
   "metadata": {},
   "outputs": [],
   "source": [
    "# Yeah, let's go ahead and speak that out now: Originally I was inclined to grab comments as well, however in short it\n",
    "#confuses the aim of the overall data science problem. So, I decided to be patient and just collect posts."
   ]
  },
  {
   "cell_type": "code",
   "execution_count": 27,
   "id": "37d5ea95",
   "metadata": {},
   "outputs": [],
   "source": [
    "#Yeah, let's go ahead and make a formula for this...\n",
    "\n",
    "#NOTE that at the moment I don't re-import time, nor praw for that matter - relying on the initial\n",
    "#importation.\n",
    "\n",
    "#Re. default being 1100 - being optomistic that we can go beyond the 1k mark. Might as well try.\n",
    "    #And I did before with one of them.\n",
    "    \n",
    "#Note that there's more customization one can do, and I'm arguably making this too complex with\n",
    "#the directions, but eh...\n",
    "\n",
    "#We'll leave direction as a string and not a boolean.\n",
    "\n",
    "def reddit_commandeerer(target_subreddit, target_no_posts=1100, last_id='', direction='after', wait_time=5):\n",
    "    target_table, iteration = [], 0\n",
    "    while len(target_table) <= target_no_posts:\n",
    "        if direction == 'before':   #Eh, just to be safe I'll code this one first. \n",
    "            posts = reddit.subreddit(target_subreddit).new(limit=100, params={'before':last_id})\n",
    "        elif last_id == '':\n",
    "            posts = reddit.subreddit(target_subreddit).new(limit=100)\n",
    "        else:\n",
    "            posts = reddit.subreddit(target_subreddit).new(limit=100, params={'after':last_id})\n",
    "        iteration += 1\n",
    "        print(f\"This is the {iteration} round of commandeering posts and their comments from the {target_subreddit} subreddit.\")\n",
    "        for post in posts:\n",
    "            target_table.append(\n",
    "                {\n",
    "                    'title':post.title,\n",
    "                    'flair':post.link_flair_text,\n",
    "                    'selftext':post.selftext,\n",
    "                    #'comments':post.comments,\n",
    "                    #'is_video':post.is_video,\n",
    "                    'over_18':post.over_18,\n",
    "                    'subreddit':target_subreddit,\n",
    "                    'time':post.created_utc,\n",
    "                    'id':post.id\n",
    "                }\n",
    "            )\n",
    "        print(f\"Our submission table has {len(target_table)} entries.\")\n",
    "        time.sleep(wait_time)\n",
    "        if direction == 'after':\n",
    "            if last_id != 't3_' + target_table[len(target_table) - 1]['id']: #Hmm, should make this more flexible per methodology\n",
    "                #ie going back or forward, but eh...\n",
    "                last_id = 't3_' + target_table[len(target_table) - 1]['id'] #For going 'after' ie earlier in time.\n",
    "        #else:\n",
    "         #   print(f\"Well, believe it or not, we're finally done gathering data for our 'target_table' from the {subreddit} subreddit.\")\n",
    "          #  sys.exit()\n",
    "        elif direction == 'before':\n",
    "            if last_id != 't3_' + target_table[prev_iter]['id']:\n",
    "                last_id = 't3_' + target_table[prev_iter]['id']\n",
    "                prev_iter = len(target_table)\n",
    "        else:\n",
    "            df = pd.DataFrame.from_dict(target_table)\n",
    "            print(f\"Well, believe it or not, we're finally done gathering data for our 'target_table' from the {subreddit} subreddit.\")\n",
    "            return df\n",
    "    df = pd.DataFrame.from_dict(target_table)\n",
    "    return df"
   ]
  },
  {
   "cell_type": "code",
   "execution_count": 3,
   "id": "34e9c694",
   "metadata": {},
   "outputs": [
    {
     "name": "stdout",
     "output_type": "stream",
     "text": [
      "This is the 1 round of commandeering posts and their comments from the manga subreddit.\n",
      "Our submission table has 200 entries.\n",
      "This is the 2 round of commandeering posts and their comments from the manga subreddit.\n",
      "Our submission table has 400 entries.\n",
      "This is the 3 round of commandeering posts and their comments from the manga subreddit.\n",
      "Our submission table has 600 entries.\n",
      "This is the 4 round of commandeering posts and their comments from the manga subreddit.\n",
      "Our submission table has 800 entries.\n",
      "This is the 5 round of commandeering posts and their comments from the manga subreddit.\n",
      "Our submission table has 985 entries.\n",
      "This is the 6 round of commandeering posts and their comments from the manga subreddit.\n",
      "Our submission table has 985 entries.\n",
      "This is the 7 round of commandeering posts and their comments from the manga subreddit.\n",
      "Our submission table has 985 entries.\n",
      "This is the 8 round of commandeering posts and their comments from the manga subreddit.\n",
      "Our submission table has 985 entries.\n",
      "This is the 9 round of commandeering posts and their comments from the manga subreddit.\n",
      "Our submission table has 985 entries.\n",
      "This is the 10 round of commandeering posts and their comments from the manga subreddit.\n",
      "Our submission table has 985 entries.\n",
      "This is the 11 round of commandeering posts and their comments from the manga subreddit.\n",
      "Our submission table has 985 entries.\n"
     ]
    },
    {
     "ename": "KeyboardInterrupt",
     "evalue": "",
     "output_type": "error",
     "traceback": [
      "\u001b[1;31m---------------------------------------------------------------------------\u001b[0m",
      "\u001b[1;31mKeyboardInterrupt\u001b[0m                         Traceback (most recent call last)",
      "Cell \u001b[1;32mIn[3], line 45\u001b[0m\n\u001b[0;32m     31\u001b[0m     target_table\u001b[38;5;241m.\u001b[39mappend(\n\u001b[0;32m     32\u001b[0m         {\n\u001b[0;32m     33\u001b[0m             \u001b[38;5;124m'\u001b[39m\u001b[38;5;124mtitle\u001b[39m\u001b[38;5;124m'\u001b[39m:post\u001b[38;5;241m.\u001b[39mtitle,\n\u001b[1;32m   (...)\u001b[0m\n\u001b[0;32m     42\u001b[0m         }\n\u001b[0;32m     43\u001b[0m     )\n\u001b[0;32m     44\u001b[0m \u001b[38;5;28mprint\u001b[39m(\u001b[38;5;124mf\u001b[39m\u001b[38;5;124m\"\u001b[39m\u001b[38;5;124mOur submission table has \u001b[39m\u001b[38;5;132;01m{\u001b[39;00m\u001b[38;5;28mlen\u001b[39m(target_table)\u001b[38;5;132;01m}\u001b[39;00m\u001b[38;5;124m entries.\u001b[39m\u001b[38;5;124m\"\u001b[39m)\n\u001b[1;32m---> 45\u001b[0m time\u001b[38;5;241m.\u001b[39msleep(wait_time)\n\u001b[0;32m     46\u001b[0m \u001b[38;5;28;01mif\u001b[39;00m direction \u001b[38;5;241m==\u001b[39m \u001b[38;5;124m'\u001b[39m\u001b[38;5;124mafter\u001b[39m\u001b[38;5;124m'\u001b[39m:\n\u001b[0;32m     47\u001b[0m     \u001b[38;5;28;01mif\u001b[39;00m last_id \u001b[38;5;241m!=\u001b[39m \u001b[38;5;124m'\u001b[39m\u001b[38;5;124mt3_\u001b[39m\u001b[38;5;124m'\u001b[39m \u001b[38;5;241m+\u001b[39m target_table[\u001b[38;5;28mlen\u001b[39m(target_table) \u001b[38;5;241m-\u001b[39m \u001b[38;5;241m1\u001b[39m][\u001b[38;5;124m'\u001b[39m\u001b[38;5;124mid\u001b[39m\u001b[38;5;124m'\u001b[39m]: \u001b[38;5;66;03m#Hmm, should make this more flexible per methodology\u001b[39;00m\n\u001b[0;32m     48\u001b[0m         \u001b[38;5;66;03m#ie going back or forward, but eh...\u001b[39;00m\n",
      "\u001b[1;31mKeyboardInterrupt\u001b[0m: "
     ]
    }
   ],
   "source": [
    "#Yeah, let's go ahead and make a formula for this...; eh, honestly wasn't getting what I wanted.\n",
    "#I want this still in table form... at the least the code will be smoother:\n",
    "\n",
    "#Re. default being 1100 - being optomistic that we can go beyond the 1k mark. Might as well try.\n",
    "    #And I did before with one of them.\n",
    "    \n",
    "#Note that there's more customization one can do, and I'm arguably making this too complex with\n",
    "#the directions, but eh...\n",
    "\n",
    "target_subreddit='manga'\n",
    "target_no_posts=1100\n",
    "post_limit=200\n",
    "#last_id='1al4vbz'\n",
    "last_id=''\n",
    "direction = 'after' #Recall 'after' means earlier in time; 'before' means later in time ie newer.\n",
    "prev_iter = 0 #Only needed if going 'before'; keep it regardless though\n",
    "wait_time=4\n",
    "\n",
    "target_table, iteration = [], 0\n",
    "\n",
    "while len(target_table) <= target_no_posts:\n",
    "    if direction == 'before':   #Eh, just to be safe I'll code this one first. \n",
    "        posts = reddit.subreddit(target_subreddit).new(limit=post_limit, params={'before':last_id})\n",
    "    elif last_id == '':\n",
    "        posts = reddit.subreddit(target_subreddit).new(limit=post_limit)\n",
    "    else:\n",
    "        posts = reddit.subreddit(target_subreddit).new(limit=post_limit, params={'after':last_id})\n",
    "    iteration += 1\n",
    "    print(f\"This is the {iteration} round of commandeering posts and their comments from the {target_subreddit} subreddit.\")\n",
    "    for post in posts:\n",
    "        target_table.append(\n",
    "            {\n",
    "                'title':post.title,\n",
    "                'flair':post.link_flair_text,\n",
    "                'selftext':post.selftext,\n",
    "                #'comments':post.comments,\n",
    "                #'is_video':post.is_video,\n",
    "                'over_18':post.over_18,\n",
    "                'subreddit':target_subreddit,\n",
    "                'time':post.created_utc,\n",
    "                'id':post.id\n",
    "            }\n",
    "        )\n",
    "    print(f\"Our submission table has {len(target_table)} entries.\")\n",
    "    time.sleep(wait_time)\n",
    "    if direction == 'after':\n",
    "        if last_id != 't3_' + target_table[len(target_table) - 1]['id']: #Hmm, should make this more flexible per methodology\n",
    "            #ie going back or forward, but eh...\n",
    "            last_id = 't3_' + target_table[len(target_table) - 1]['id'] #For going 'after' ie earlier in time.\n",
    "    #else:\n",
    "        #   print(f\"Well, believe it or not, we're finally done gathering data for our 'target_table' from the {subreddit} subreddit.\")\n",
    "        #  sys.exit()\n",
    "    elif direction == 'before':\n",
    "        if last_id != 't3_' + target_table[prev_iter]['id']:\n",
    "            last_id = 't3_' + target_table[prev_iter]['id']\n",
    "            prev_iter = len(target_table)\n",
    "    else:\n",
    "        break\n",
    "print(f\"Well, believe it or not, we're finally done gathering data for our 'target_table' from the {target_subreddit} subreddit.\")\n",
    "\n",
    "\n",
    "df = pd.DataFrame.from_dict(target_table)\n",
    "print(df.shape)\n",
    "df.head()"
   ]
  },
  {
   "cell_type": "code",
   "execution_count": 5,
   "id": "467cf7f4",
   "metadata": {},
   "outputs": [
    {
     "name": "stdout",
     "output_type": "stream",
     "text": [
      "(985, 7)\n"
     ]
    },
    {
     "data": {
      "text/html": [
       "<div>\n",
       "<style scoped>\n",
       "    .dataframe tbody tr th:only-of-type {\n",
       "        vertical-align: middle;\n",
       "    }\n",
       "\n",
       "    .dataframe tbody tr th {\n",
       "        vertical-align: top;\n",
       "    }\n",
       "\n",
       "    .dataframe thead th {\n",
       "        text-align: right;\n",
       "    }\n",
       "</style>\n",
       "<table border=\"1\" class=\"dataframe\">\n",
       "  <thead>\n",
       "    <tr style=\"text-align: right;\">\n",
       "      <th></th>\n",
       "      <th>title</th>\n",
       "      <th>flair</th>\n",
       "      <th>selftext</th>\n",
       "      <th>over_18</th>\n",
       "      <th>subreddit</th>\n",
       "      <th>time</th>\n",
       "      <th>id</th>\n",
       "    </tr>\n",
       "  </thead>\n",
       "  <tbody>\n",
       "    <tr>\n",
       "      <th>0</th>\n",
       "      <td>Dad looking for manga for struggling teen son</td>\n",
       "      <td>None</td>\n",
       "      <td>I have been reading multiple post, searching f...</td>\n",
       "      <td>False</td>\n",
       "      <td>manga</td>\n",
       "      <td>1.707688e+09</td>\n",
       "      <td>1aojf11</td>\n",
       "    </tr>\n",
       "    <tr>\n",
       "      <th>1</th>\n",
       "      <td>Any manga with relationship growth as Wall-E a...</td>\n",
       "      <td>None</td>\n",
       "      <td>Like where wholesome guy falls indirectly teac...</td>\n",
       "      <td>False</td>\n",
       "      <td>manga</td>\n",
       "      <td>1.707688e+09</td>\n",
       "      <td>1aojbaw</td>\n",
       "    </tr>\n",
       "    <tr>\n",
       "      <th>2</th>\n",
       "      <td>Sweat and soap chapter in Kintetsu Yamada shor...</td>\n",
       "      <td>None</td>\n",
       "      <td>I have seen that this has a bunch of short sto...</td>\n",
       "      <td>False</td>\n",
       "      <td>manga</td>\n",
       "      <td>1.707688e+09</td>\n",
       "      <td>1aojamx</td>\n",
       "    </tr>\n",
       "    <tr>\n",
       "      <th>3</th>\n",
       "      <td>[DISC] Bloodline - Vol. 1 Ch. 1</td>\n",
       "      <td>DISC</td>\n",
       "      <td></td>\n",
       "      <td>False</td>\n",
       "      <td>manga</td>\n",
       "      <td>1.707687e+09</td>\n",
       "      <td>1aoj610</td>\n",
       "    </tr>\n",
       "    <tr>\n",
       "      <th>4</th>\n",
       "      <td>Origins and Standouts of the Big Bad Human Who...</td>\n",
       "      <td>None</td>\n",
       "      <td>Even if this doesn't originally come from mang...</td>\n",
       "      <td>False</td>\n",
       "      <td>manga</td>\n",
       "      <td>1.707687e+09</td>\n",
       "      <td>1aoj4ui</td>\n",
       "    </tr>\n",
       "  </tbody>\n",
       "</table>\n",
       "</div>"
      ],
      "text/plain": [
       "                                               title flair  \\\n",
       "0      Dad looking for manga for struggling teen son  None   \n",
       "1  Any manga with relationship growth as Wall-E a...  None   \n",
       "2  Sweat and soap chapter in Kintetsu Yamada shor...  None   \n",
       "3                    [DISC] Bloodline - Vol. 1 Ch. 1  DISC   \n",
       "4  Origins and Standouts of the Big Bad Human Who...  None   \n",
       "\n",
       "                                            selftext  over_18 subreddit  \\\n",
       "0  I have been reading multiple post, searching f...    False     manga   \n",
       "1  Like where wholesome guy falls indirectly teac...    False     manga   \n",
       "2  I have seen that this has a bunch of short sto...    False     manga   \n",
       "3                                                       False     manga   \n",
       "4  Even if this doesn't originally come from mang...    False     manga   \n",
       "\n",
       "           time       id  \n",
       "0  1.707688e+09  1aojf11  \n",
       "1  1.707688e+09  1aojbaw  \n",
       "2  1.707688e+09  1aojamx  \n",
       "3  1.707687e+09  1aoj610  \n",
       "4  1.707687e+09  1aoj4ui  "
      ]
     },
     "execution_count": 5,
     "metadata": {},
     "output_type": "execute_result"
    }
   ],
   "source": [
    "df = pd.DataFrame.from_dict(target_table)\n",
    "print(df.shape)\n",
    "df.head()"
   ]
  },
  {
   "cell_type": "code",
   "execution_count": 8,
   "id": "582d20fb",
   "metadata": {},
   "outputs": [],
   "source": [
    "df.to_csv('data/manga_table_vi.csv', index=False)"
   ]
  },
  {
   "cell_type": "code",
   "execution_count": null,
   "id": "c9265585",
   "metadata": {},
   "outputs": [],
   "source": []
  },
  {
   "cell_type": "code",
   "execution_count": 42,
   "id": "2625eaaa",
   "metadata": {},
   "outputs": [
    {
     "data": {
      "text/plain": [
       "99    1al4vbz\n",
       "Name: id, dtype: object"
      ]
     },
     "execution_count": 42,
     "metadata": {},
     "output_type": "execute_result"
    }
   ],
   "source": [
    "df[df['time'] == df['time'].min()]['id']"
   ]
  },
  {
   "cell_type": "code",
   "execution_count": 44,
   "id": "266b8af0",
   "metadata": {},
   "outputs": [
    {
     "data": {
      "text/plain": [
       "0    1alm9m4\n",
       "Name: id, dtype: object"
      ]
     },
     "execution_count": 44,
     "metadata": {},
     "output_type": "execute_result"
    }
   ],
   "source": [
    "df[df['time'] == df['time'].max()]['id']"
   ]
  },
  {
   "cell_type": "code",
   "execution_count": 38,
   "id": "a391bd77",
   "metadata": {},
   "outputs": [
    {
     "data": {
      "text/plain": [
       "299    1ak4exk\n",
       "Name: id, dtype: object"
      ]
     },
     "execution_count": 38,
     "metadata": {},
     "output_type": "execute_result"
    }
   ],
   "source": [
    "df[df['time'] == df['time'].min()]['id']"
   ]
  },
  {
   "cell_type": "code",
   "execution_count": 3,
   "id": "af7a4d63",
   "metadata": {},
   "outputs": [],
   "source": [
    "manga_table = []\n",
    "#prev_iter = len(manga_table) \n",
    "#prev_iter = 0 #Only use these guys if going before in time.\n",
    "iteration, target_subreddit = 0, 'manga' #Arguably should have just used target_subreddit for everything, but eh...\n",
    "last_id = \"\"#1.706736e+09\t1afszjz - just look below... 1/31/4:30pmis"
   ]
  },
  {
   "cell_type": "code",
   "execution_count": 5,
   "id": "c68027cc",
   "metadata": {},
   "outputs": [],
   "source": [
    "#Note that I re-used the following to collect data, re-running multiple lines of this. Arguably should have just made a\n",
    "#formula, howeve given my newness as well as the fact that I had some limit issues I wanted to monitor it more carefully.\n",
    "\n",
    "#posts_manga = reddit.subreddit(target_subreddit).new(limit=100, params={'after':'t3_19ckgrg'})\n",
    "#posts_manga = reddit.subreddit(target_subreddit).new(limit=100, params={'before':'t3_19e75bk'}) #I prefer 100 at a time.\n",
    "\n",
    "#It's time now, 1/31/24, to build upon our hesitations and look through these boys. And note, I could just remove the limit,\n",
    "#but likely I'll find a parralel thing like this in the future. Plus, if I would be doing something like comments later..."
   ]
  },
  {
   "cell_type": "code",
   "execution_count": 4,
   "id": "2976f453",
   "metadata": {},
   "outputs": [
    {
     "name": "stdout",
     "output_type": "stream",
     "text": [
      "This is the 1 round of commandeering posts and their comments from the manga subreddit.\n",
      "Our submission table has 100 entries.\n",
      "This is the 2 round of commandeering posts and their comments from the manga subreddit.\n",
      "Our submission table has 200 entries.\n",
      "This is the 3 round of commandeering posts and their comments from the manga subreddit.\n",
      "Our submission table has 300 entries.\n",
      "This is the 4 round of commandeering posts and their comments from the manga subreddit.\n",
      "Our submission table has 400 entries.\n",
      "This is the 5 round of commandeering posts and their comments from the manga subreddit.\n",
      "Our submission table has 500 entries.\n",
      "This is the 6 round of commandeering posts and their comments from the manga subreddit.\n",
      "Our submission table has 600 entries.\n",
      "This is the 7 round of commandeering posts and their comments from the manga subreddit.\n",
      "Our submission table has 700 entries.\n",
      "This is the 8 round of commandeering posts and their comments from the manga subreddit.\n",
      "Our submission table has 800 entries.\n",
      "This is the 9 round of commandeering posts and their comments from the manga subreddit.\n",
      "Our submission table has 900 entries.\n",
      "This is the 10 round of commandeering posts and their comments from the manga subreddit.\n",
      "Our submission table has 960 entries.\n",
      "This is the 11 round of commandeering posts and their comments from the manga subreddit.\n",
      "Our submission table has 960 entries.\n"
     ]
    }
   ],
   "source": [
    "while len(manga_table) <= 1100: #Eh, could do a crude while iteration < 11 and just let it re.run, but eh...\n",
    "    #Hence the break later on. #And might as well hope to get more than 1k\n",
    "    if last_id == \"\":\n",
    "        posts = reddit.subreddit(target_subreddit).new(limit=100)\n",
    "    else:\n",
    "        post = reddit.subreddit(target_subreddit).new(limit=100, params={'after':last_id})\n",
    "    iteration += 1\n",
    "    print(f\"This is the {iteration} round of commandeering posts and their comments from the {target_subreddit} subreddit.\")\n",
    "    for post in posts:\n",
    "        manga_table.append(\n",
    "            {\n",
    "                'title':post.title,\n",
    "                'flair':post.link_flair_text,\n",
    "                'selftext':post.selftext,\n",
    "                #'comments':post.comments,\n",
    "                #'is_video':post.is_video,\n",
    "                'over_18':post.over_18,\n",
    "                'subreddit':target_subreddit,\n",
    "                'time':post.created_utc,\n",
    "                'id':post.id\n",
    "            }\n",
    "        )\n",
    "    print(f\"Our submission table has {len(manga_table)} entries.\")\n",
    "    time.sleep(10)\n",
    "    if last_id != 't3_' + manga_table[len(manga_table) - 1]['id']: #Hmm, should make this more flexible per methodology\n",
    "        #ie going back or forward, but eh...\n",
    "        last_id = 't3_' + manga_table[len(manga_table) - 1]['id'] #For going 'after' ie earlier in time.\n",
    "        #last_id = 't3_' + manga_table[prev_iter]['id'] #For going 'before' ie later in time.\n",
    "        #prev_iter = len(manga_table\n",
    "    else:\n",
    "        break"
   ]
  },
  {
   "cell_type": "code",
   "execution_count": 6,
   "id": "6a5bab30",
   "metadata": {},
   "outputs": [],
   "source": [
    "#Now, let's save. Please be careful when running this iterably to change the title, otherwise it'd\n",
    "#overwrite the other data).\n",
    "\n",
    "df = pd.DataFrame.from_dict(manga_table)\n",
    "df.to_csv('data/manga_table_vi.csv', index=False)"
   ]
  },
  {
   "cell_type": "code",
   "execution_count": 7,
   "id": "ec0ce16f",
   "metadata": {},
   "outputs": [
    {
     "data": {
      "text/html": [
       "<div>\n",
       "<style scoped>\n",
       "    .dataframe tbody tr th:only-of-type {\n",
       "        vertical-align: middle;\n",
       "    }\n",
       "\n",
       "    .dataframe tbody tr th {\n",
       "        vertical-align: top;\n",
       "    }\n",
       "\n",
       "    .dataframe thead th {\n",
       "        text-align: right;\n",
       "    }\n",
       "</style>\n",
       "<table border=\"1\" class=\"dataframe\">\n",
       "  <thead>\n",
       "    <tr style=\"text-align: right;\">\n",
       "      <th></th>\n",
       "      <th>title</th>\n",
       "      <th>flair</th>\n",
       "      <th>selftext</th>\n",
       "      <th>over_18</th>\n",
       "      <th>subreddit</th>\n",
       "      <th>time</th>\n",
       "      <th>id</th>\n",
       "    </tr>\n",
       "  </thead>\n",
       "  <tbody>\n",
       "    <tr>\n",
       "      <th>0</th>\n",
       "      <td>Anything similar to The Academy's Genius Sword...</td>\n",
       "      <td>None</td>\n",
       "      <td>Liked the plot and the school sending and was ...</td>\n",
       "      <td>False</td>\n",
       "      <td>manga</td>\n",
       "      <td>1.707352e+09</td>\n",
       "      <td>1ali8jz</td>\n",
       "    </tr>\n",
       "    <tr>\n",
       "      <th>1</th>\n",
       "      <td>LF a manga or manhwa that I read a long time ago</td>\n",
       "      <td>None</td>\n",
       "      <td>I only remember that the mc had a 'king' like ...</td>\n",
       "      <td>True</td>\n",
       "      <td>manga</td>\n",
       "      <td>1.707351e+09</td>\n",
       "      <td>1ali5uq</td>\n",
       "    </tr>\n",
       "    <tr>\n",
       "      <th>2</th>\n",
       "      <td>[DISC] Mairimashita! Iruma-kun - Ch. 335 - San...</td>\n",
       "      <td>DISC</td>\n",
       "      <td></td>\n",
       "      <td>False</td>\n",
       "      <td>manga</td>\n",
       "      <td>1.707350e+09</td>\n",
       "      <td>1alhl0d</td>\n",
       "    </tr>\n",
       "    <tr>\n",
       "      <th>3</th>\n",
       "      <td>[DESC] You made the demon upset (Shonan pure l...</td>\n",
       "      <td>ART</td>\n",
       "      <td></td>\n",
       "      <td>False</td>\n",
       "      <td>manga</td>\n",
       "      <td>1.707349e+09</td>\n",
       "      <td>1alh4tf</td>\n",
       "    </tr>\n",
       "    <tr>\n",
       "      <th>4</th>\n",
       "      <td>[DISC] The Crow - Chapter 15 - Immortal Updates</td>\n",
       "      <td>DISC</td>\n",
       "      <td></td>\n",
       "      <td>False</td>\n",
       "      <td>manga</td>\n",
       "      <td>1.707348e+09</td>\n",
       "      <td>1algxti</td>\n",
       "    </tr>\n",
       "  </tbody>\n",
       "</table>\n",
       "</div>"
      ],
      "text/plain": [
       "                                               title flair  \\\n",
       "0  Anything similar to The Academy's Genius Sword...  None   \n",
       "1   LF a manga or manhwa that I read a long time ago  None   \n",
       "2  [DISC] Mairimashita! Iruma-kun - Ch. 335 - San...  DISC   \n",
       "3  [DESC] You made the demon upset (Shonan pure l...   ART   \n",
       "4    [DISC] The Crow - Chapter 15 - Immortal Updates  DISC   \n",
       "\n",
       "                                            selftext  over_18 subreddit  \\\n",
       "0  Liked the plot and the school sending and was ...    False     manga   \n",
       "1  I only remember that the mc had a 'king' like ...     True     manga   \n",
       "2                                                       False     manga   \n",
       "3                                                       False     manga   \n",
       "4                                                       False     manga   \n",
       "\n",
       "           time       id  \n",
       "0  1.707352e+09  1ali8jz  \n",
       "1  1.707351e+09  1ali5uq  \n",
       "2  1.707350e+09  1alhl0d  \n",
       "3  1.707349e+09  1alh4tf  \n",
       "4  1.707348e+09  1algxti  "
      ]
     },
     "execution_count": 7,
     "metadata": {},
     "output_type": "execute_result"
    }
   ],
   "source": [
    "df.head()"
   ]
  },
  {
   "cell_type": "code",
   "execution_count": 8,
   "id": "a880158d",
   "metadata": {},
   "outputs": [
    {
     "data": {
      "text/plain": [
       "960"
      ]
     },
     "execution_count": 8,
     "metadata": {},
     "output_type": "execute_result"
    }
   ],
   "source": [
    "len(df['time'].unique())#Heh, 4 that had matching times... buteh,fine... ids are all unique. We'll econfirm:"
   ]
  },
  {
   "cell_type": "code",
   "execution_count": 9,
   "id": "980ea4b9",
   "metadata": {},
   "outputs": [
    {
     "data": {
      "text/plain": [
       "1706886438.0"
      ]
     },
     "execution_count": 9,
     "metadata": {},
     "output_type": "execute_result"
    }
   ],
   "source": [
    "df['time'].min() #Note that I've been using this website to translate for us: https://www.unixtimestamp.com/\n",
    "#Hopefully there would be some python function that does that, likely an import, but for now...\n",
    "\n",
    "#So, while we'll still do the unique check we are good definitionally. Let's do anime then comment more."
   ]
  },
  {
   "cell_type": "code",
   "execution_count": 10,
   "id": "9288e9c5",
   "metadata": {},
   "outputs": [
    {
     "data": {
      "text/plain": [
       "(960, 7)"
      ]
     },
     "execution_count": 10,
     "metadata": {},
     "output_type": "execute_result"
    }
   ],
   "source": [
    "df.shape"
   ]
  },
  {
   "cell_type": "code",
   "execution_count": 10,
   "id": "9f427638",
   "metadata": {},
   "outputs": [],
   "source": [
    "#Now let's grab for our second subreddit - anime. Recall earlier that we already declared my_subrddit_2.\n",
    "\n",
    "anime_table = []\n",
    "#prev_iter = len(manga_table)\n",
    "target_no_posts=1100\n",
    "post_limit = 200\n",
    "prev_iter = 0\n",
    "iteration, target_subreddit = 0, 'anime'\n",
    "last_id = \"\" #1.706739e+09\t1afu3os - see below... I mean, pragmatically we'll be duplicate checking..."
   ]
  },
  {
   "cell_type": "code",
   "execution_count": 11,
   "id": "9f9e6c22",
   "metadata": {},
   "outputs": [
    {
     "name": "stdout",
     "output_type": "stream",
     "text": [
      "This is the 1 round of commandeering posts and their comments from the anime subreddit.\n",
      "Our submission table has 200 entries.\n",
      "This is the 2 round of commandeering posts and their comments from the anime subreddit.\n",
      "Our submission table has 400 entries.\n",
      "This is the 3 round of commandeering posts and their comments from the anime subreddit.\n",
      "Our submission table has 600 entries.\n",
      "This is the 4 round of commandeering posts and their comments from the anime subreddit.\n",
      "Our submission table has 800 entries.\n",
      "This is the 5 round of commandeering posts and their comments from the anime subreddit.\n",
      "Our submission table has 960 entries.\n",
      "This is the 6 round of commandeering posts and their comments from the anime subreddit.\n",
      "Our submission table has 960 entries.\n"
     ]
    }
   ],
   "source": [
    "while len(anime_table) <= target_no_posts:\n",
    "    #Hence the break later on.\n",
    "    if last_id == \"\":\n",
    "        posts = reddit.subreddit(target_subreddit).new(limit=post_limit)\n",
    "    else:\n",
    "        posts = reddit.subreddit(target_subreddit).new(limit=post_limit, params={'after':last_id})\n",
    "    iteration += 1\n",
    "    print(f\"This is the {iteration} round of commandeering posts and their comments from the {target_subreddit} subreddit.\")\n",
    "    for post in posts:\n",
    "        anime_table.append(\n",
    "            {\n",
    "                'title':post.title,\n",
    "                'flair':post.link_flair_text,\n",
    "                'selftext':post.selftext,\n",
    "                #'comments':post.comments,\n",
    "                #'is_video':post.is_video,\n",
    "                'over_18':post.over_18,\n",
    "                'subreddit':target_subreddit,\n",
    "                'time':post.created_utc,\n",
    "                'id':post.id\n",
    "            }\n",
    "        )\n",
    "    print(f\"Our submission table has {len(anime_table)} entries.\")\n",
    "    time.sleep(4)\n",
    "    if last_id != 't3_' + anime_table[len(anime_table) - 1]['id']: #Hmm, should make this more flexible per methodology\n",
    "        #ie going back or forward, but eh...\n",
    "        last_id = 't3_' + anime_table[len(anime_table) - 1]['id'] #For going 'after' ie earlier in time.\n",
    "        #last_id = 't3_' + manga_table[prev_iter]['id'] #For going 'before' ie later in time.\n",
    "        #prev_iter = len(manga_table\n",
    "    else:\n",
    "        break"
   ]
  },
  {
   "cell_type": "code",
   "execution_count": 13,
   "id": "27d90fd9",
   "metadata": {},
   "outputs": [
    {
     "data": {
      "text/plain": [
       "[{'title': 'Looking for a manga/anime similar to this niche one i read that was good',\n",
       "  'flair': 'What to Watch?',\n",
       "  'selftext': 'the name is ridiculous but anyways the manga is Mainichi Shine Shine Itte Kuru Gimai ga, Ore ga Nete Iru Suki ni Saimin-jutsu de Hore Saseyou to Shite Kurundakedo…! it’s a manga about a step sister who is NOT related at all to her step brother, this step sister falls in love w the brother and hypnotizes him, sister is a huge tsundere and there is a childhood friend fighting for mc love lol. I think it’s really good ending a little rushed but i don’t think it’s over yet, would recommend, can anyone help?',\n",
       "  'over_18': False,\n",
       "  'subreddit': 'anime',\n",
       "  'time': 1707352222.0,\n",
       "  'id': '1alih44'},\n",
       " {'title': 'HELP I FORGOT THE NAME OF AN ANIME RECOMMENDED TO ME',\n",
       "  'flair': 'Help',\n",
       "  'selftext': \"Ok someone recommended an anime to me and I can't remember the name for the life of me- it's six episodes and probably came out a little while ago, (not recently at all) and it maybe started with the word silly? Or just an s word, I'm not sure.\",\n",
       "  'over_18': False,\n",
       "  'subreddit': 'anime',\n",
       "  'time': 1707351543.0,\n",
       "  'id': '1ali946'}]"
      ]
     },
     "execution_count": 13,
     "metadata": {},
     "output_type": "execute_result"
    }
   ],
   "source": [
    "anime_table[:2] #Let's take a look at a few. Anyways,sigh, only 963 from anime interestingly. Regardless, "
   ]
  },
  {
   "cell_type": "code",
   "execution_count": 4,
   "id": "139e61e9",
   "metadata": {},
   "outputs": [
    {
     "ename": "NameError",
     "evalue": "name 'df' is not defined",
     "output_type": "error",
     "traceback": [
      "\u001b[1;31m---------------------------------------------------------------------------\u001b[0m",
      "\u001b[1;31mNameError\u001b[0m                                 Traceback (most recent call last)",
      "Cell \u001b[1;32mIn[4], line 1\u001b[0m\n\u001b[1;32m----> 1\u001b[0m df\u001b[38;5;241m.\u001b[39mhead()\n",
      "\u001b[1;31mNameError\u001b[0m: name 'df' is not defined"
     ]
    }
   ],
   "source": [
    "df.head()"
   ]
  },
  {
   "cell_type": "code",
   "execution_count": null,
   "id": "95411d07",
   "metadata": {},
   "outputs": [],
   "source": []
  },
  {
   "cell_type": "code",
   "execution_count": 12,
   "id": "c5f1cc11",
   "metadata": {},
   "outputs": [],
   "source": [
    "#Saving time for anime. See earlier.\n",
    "\n",
    "df = pd.DataFrame.from_dict(anime_table)\n",
    "df.to_csv('data/anime_table_vi.csv', index=False) #To match manga... to make referencing easier..."
   ]
  },
  {
   "cell_type": "code",
   "execution_count": 15,
   "id": "22b11b30",
   "metadata": {},
   "outputs": [
    {
     "data": {
      "text/plain": [
       "1706680621.0"
      ]
     },
     "execution_count": 15,
     "metadata": {},
     "output_type": "execute_result"
    }
   ],
   "source": [
    "df['time'].min() #Hmm, anime is slacking... this is from Wednesday at almost 6 GMT... regardless, we should\n",
    "#still have enough... Let us continue."
   ]
  },
  {
   "cell_type": "code",
   "execution_count": 16,
   "id": "e96bf839",
   "metadata": {},
   "outputs": [
    {
     "data": {
      "text/html": [
       "<div>\n",
       "<style scoped>\n",
       "    .dataframe tbody tr th:only-of-type {\n",
       "        vertical-align: middle;\n",
       "    }\n",
       "\n",
       "    .dataframe tbody tr th {\n",
       "        vertical-align: top;\n",
       "    }\n",
       "\n",
       "    .dataframe thead th {\n",
       "        text-align: right;\n",
       "    }\n",
       "</style>\n",
       "<table border=\"1\" class=\"dataframe\">\n",
       "  <thead>\n",
       "    <tr style=\"text-align: right;\">\n",
       "      <th></th>\n",
       "      <th>title</th>\n",
       "      <th>flair</th>\n",
       "      <th>selftext</th>\n",
       "      <th>over_18</th>\n",
       "      <th>subreddit</th>\n",
       "      <th>time</th>\n",
       "      <th>id</th>\n",
       "    </tr>\n",
       "  </thead>\n",
       "  <tbody>\n",
       "    <tr>\n",
       "      <th>0</th>\n",
       "      <td>Looking for a manga/anime similar to this nich...</td>\n",
       "      <td>What to Watch?</td>\n",
       "      <td>the name is ridiculous but anyways the manga i...</td>\n",
       "      <td>False</td>\n",
       "      <td>anime</td>\n",
       "      <td>1.707352e+09</td>\n",
       "      <td>1alih44</td>\n",
       "    </tr>\n",
       "    <tr>\n",
       "      <th>1</th>\n",
       "      <td>HELP I FORGOT THE NAME OF AN ANIME RECOMMENDED...</td>\n",
       "      <td>Help</td>\n",
       "      <td>Ok someone recommended an anime to me and I ca...</td>\n",
       "      <td>False</td>\n",
       "      <td>anime</td>\n",
       "      <td>1.707352e+09</td>\n",
       "      <td>1ali946</td>\n",
       "    </tr>\n",
       "    <tr>\n",
       "      <th>2</th>\n",
       "      <td>Help Finding Song in Very Private Lesson</td>\n",
       "      <td>Help</td>\n",
       "      <td>There is a song in the first episode of an ani...</td>\n",
       "      <td>False</td>\n",
       "      <td>anime</td>\n",
       "      <td>1.707351e+09</td>\n",
       "      <td>1ali75v</td>\n",
       "    </tr>\n",
       "    <tr>\n",
       "      <th>3</th>\n",
       "      <td>Anime or Manga recommendations please!</td>\n",
       "      <td>What to Watch?</td>\n",
       "      <td>So far I've watched and loved:\\n\\n\\- Sk8 the ...</td>\n",
       "      <td>False</td>\n",
       "      <td>anime</td>\n",
       "      <td>1.707351e+09</td>\n",
       "      <td>1alhzyl</td>\n",
       "    </tr>\n",
       "    <tr>\n",
       "      <th>4</th>\n",
       "      <td>Will I enjoy Mushoku Tensei if I liked Re:Zero?</td>\n",
       "      <td>What to Watch?</td>\n",
       "      <td>I was wondering if they have any similarities ...</td>\n",
       "      <td>False</td>\n",
       "      <td>anime</td>\n",
       "      <td>1.707351e+09</td>\n",
       "      <td>1alhx4e</td>\n",
       "    </tr>\n",
       "  </tbody>\n",
       "</table>\n",
       "</div>"
      ],
      "text/plain": [
       "                                               title           flair  \\\n",
       "0  Looking for a manga/anime similar to this nich...  What to Watch?   \n",
       "1  HELP I FORGOT THE NAME OF AN ANIME RECOMMENDED...            Help   \n",
       "2           Help Finding Song in Very Private Lesson            Help   \n",
       "3             Anime or Manga recommendations please!  What to Watch?   \n",
       "4    Will I enjoy Mushoku Tensei if I liked Re:Zero?  What to Watch?   \n",
       "\n",
       "                                            selftext  over_18 subreddit  \\\n",
       "0  the name is ridiculous but anyways the manga i...    False     anime   \n",
       "1  Ok someone recommended an anime to me and I ca...    False     anime   \n",
       "2  There is a song in the first episode of an ani...    False     anime   \n",
       "3   So far I've watched and loved:\\n\\n\\- Sk8 the ...    False     anime   \n",
       "4  I was wondering if they have any similarities ...    False     anime   \n",
       "\n",
       "           time       id  \n",
       "0  1.707352e+09  1alih44  \n",
       "1  1.707352e+09  1ali946  \n",
       "2  1.707351e+09  1ali75v  \n",
       "3  1.707351e+09  1alhzyl  \n",
       "4  1.707351e+09  1alhx4e  "
      ]
     },
     "execution_count": 16,
     "metadata": {},
     "output_type": "execute_result"
    }
   ],
   "source": [
    "df.head()"
   ]
  }
 ],
 "metadata": {
  "kernelspec": {
   "display_name": "Python 3 (ipykernel)",
   "language": "python",
   "name": "python3"
  },
  "language_info": {
   "codemirror_mode": {
    "name": "ipython",
    "version": 3
   },
   "file_extension": ".py",
   "mimetype": "text/x-python",
   "name": "python",
   "nbconvert_exporter": "python",
   "pygments_lexer": "ipython3",
   "version": "3.11.5"
  }
 },
 "nbformat": 4,
 "nbformat_minor": 5
}
